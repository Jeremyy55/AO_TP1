{
 "cells": [
  {
   "cell_type": "code",
   "execution_count": 9,
   "metadata": {
    "collapsed": true
   },
   "outputs": [],
   "source": [
    "## imports\n",
    "\n",
    "import numpy as np\n",
    "import itertools\n",
    "from collections import namedtuple\n",
    "import os\n",
    "import random\n",
    "from random import shuffle\n",
    "from collections import namedtuple\n",
    "\n",
    "Combo = namedtuple('Combo', 'x solution')"
   ]
  },
  {
   "cell_type": "code",
   "execution_count": 10,
   "metadata": {
    "collapsed": true
   },
   "outputs": [],
   "source": [
    "## all functions\n",
    "def read_data(filename):\n",
    "    array = np.fromfile(filename, dtype=int, sep=' ')\n",
    "    dim = array[0]\n",
    "    obj = []\n",
    "    for i in range(4):\n",
    "        obj.append(array[1+i*dim**2:1+(i+1)*dim**2].reshape((dim, dim)))\n",
    "    return dim, obj\n",
    "\n",
    "\n",
    "def init(dim, n=1):\n",
    "    init = list()\n",
    "    for i in range(n):\n",
    "        tmp = [i for i in range(dim)]\n",
    "        shuffle(tmp)\n",
    "        init.append(tmp)\n",
    "    return init\n",
    "\n",
    "def get_solution(x, objs):\n",
    "    \"\"\" je considère qu'on ne me donne que un vecteur de solution , et pas un vecteur de vecteur de solution.\"\"\"\n",
    "    obj_to_return = []\n",
    "    for obj in objs:\n",
    "        calcul = 0\n",
    "        for i in range(len(x)):\n",
    "            calcul += obj[i][x[i]]\n",
    "        obj_to_return.append(calcul)\n",
    "    return obj_to_return\n",
    "\n",
    "\n",
    "def findNeighbours(X, nbNeighbour):\n",
    "  neighbours = []\n",
    "  for i in range(0, nbNeighbour):\n",
    "    newNeighbour = X.copy()\n",
    "    while True:\n",
    "      row1 = int(round(random.random()*len(X))) % len(X)\n",
    "      row2 = int(round(random.random()*len(X))) % len(X)\n",
    "      tmp = newNeighbour[row1]\n",
    "      newNeighbour[row1] = newNeighbour[row2]\n",
    "      newNeighbour[row2] = tmp\n",
    "      \n",
    "      found = False\n",
    "      for nb in neighbours:\n",
    "        doublon = True\n",
    "        for j in range(0, len(X)):\n",
    "          if nb[j] != newNeighbour[j]:\n",
    "            doublon = False\n",
    "        if doublon == True:\n",
    "          found = True\n",
    "\n",
    "      if not found:\n",
    "        neighbours.append(newNeighbour)\n",
    "        break\n",
    "  return neighbours\n",
    "\n",
    "def findNeighboursA(X, nbNeighbour,nPermut):\n",
    "    neighbours = []\n",
    "    for i in range(0, nbNeighbour):\n",
    "        newNeighbour = X.copy()\n",
    "    \n",
    "        while True:\n",
    "            \n",
    "            permut_rows = random.sample(X,nPermut)\n",
    "                                        \n",
    "            temps = [newNeighbour[row] for row in permut_rows]\n",
    "            \n",
    "            for tmp,row in zip(reversed(temps),permut_rows) :   \n",
    "                newNeighbour[row] = tmp\n",
    "\n",
    "            found = False\n",
    "            for nb in neighbours:\n",
    "                doublon = True\n",
    "                for j in range(0, len(X)):\n",
    "                    if nb[j] != newNeighbour[j]:\n",
    "                        doublon = False\n",
    "                if doublon == True:\n",
    "                    found = True\n",
    "\n",
    "            if not found:\n",
    "                neighbours.append(newNeighbour)\n",
    "                break\n",
    "\n",
    "    return neighbours\n",
    "\n",
    "\n",
    "def x_and_sol_to_named_tuple(x_to_convert,objs) :\n",
    "    \n",
    "    \"\"\" Prend en entrée une liste de vecteurs X et \n",
    "    les associe à leurs solutions dans un named tuple \n",
    "    renvoit une liste de named_tuples \"\"\" \n",
    "    \n",
    "    if (type(x_to_convert[0]) == list) :\n",
    "        \n",
    "        tuple_list = []\n",
    "        for x in x_to_convert:\n",
    "            #print(x)\n",
    "            x_tuple = Combo(x,get_solution(x,objs))\n",
    "            tuple_list.append(x_tuple)\n",
    "\n",
    "        return tuple_list\n",
    "    \n",
    "    else :\n",
    "        \n",
    "        return [Combo(x_to_convert,get_solution(x_to_convert,objs))]\n",
    "## TODO CHANGED HERE    \n",
    "\n",
    "    \n",
    "def compare_two_points(tuple1,tuple2,) :\n",
    "    \n",
    "    \"\"\" return an integer 0, 1 , 2 to determine order of dominance\n",
    "    0 : no dominance\n",
    "    1 : the first element gets dominated\n",
    "    2 : the second element gets dominated \"\"\"\n",
    "    \n",
    "    #print(\"first tuple\", tuple1)\n",
    "    #print(\"second tupel\",tuple2)\n",
    "    elem_to_del = 0\n",
    "    \n",
    "    solutions1 = tuple1.solution \n",
    "    solutions2 = tuple2.solution \n",
    "    \n",
    "    comp_list = [-1 if obj1>obj2 else 0 if obj1==obj2 else 1 for obj1,obj2 in zip(solutions1,solutions2)]\n",
    "    \n",
    "    comp_set = set(comp_list)\n",
    "    #print(comp_set)\n",
    "    \n",
    "    if all(x in [0,1] for x in comp_set) | ({1} == comp_set) :\n",
    "        #print('on delete le 2e element : ' , tuple2)\n",
    "        elem_to_del = 2\n",
    "    \n",
    "    elif (all(x in [0,-1] for x in comp_set)) | ({-1} == comp_set) :\n",
    "        #print('on delete le 1er element :', tuple1)\n",
    "        elem_to_del = 1\n",
    "         \n",
    "    elif {0} == comp_set :\n",
    "        #print('on ne supprime rien, les obj sont egaux :')\n",
    "        elem_to_del = 0\n",
    "        \n",
    "    else :\n",
    "        #print('On ne supprime rien ')\n",
    "        elem_to_del = 0\n",
    "    \n",
    "    return elem_to_del\n",
    "\n",
    "def compare_and_delete(tuple_group) :\n",
    "    \n",
    "    \"\"\"Compares each tuple to all the elements in the list,\n",
    "    deletes the dominated ones,\n",
    "    as well as the duplicates \"\"\"\n",
    "\n",
    "    dominated = []\n",
    "    unique_domi = []\n",
    "    unique_tuple_group = []\n",
    "    tuple_group_copy = tuple_group.copy()\n",
    "    \n",
    "    ## creates a list of dominated tuples\n",
    "    for (tuple1,tuple2) in itertools.combinations(tuple_group_copy,2):\n",
    "             \n",
    "            \n",
    "            who_to_del = compare_two_points(tuple1,tuple2,)\n",
    "         \n",
    "            if who_to_del == 1 :\n",
    "                dominated.append(tuple1)\n",
    "            if who_to_del == 2 :\n",
    "                dominated.append(tuple2)\n",
    "    \n",
    "    ## creates unique list of dominated tuples\n",
    "    unique = [unique_domi.append(x) for x in dominated if x not in unique_domi]         \n",
    "    #print('the dominated vector' , unique_domi)\n",
    "    \n",
    "    ## delete all the dominated tuples   \n",
    "    tuple_group_copy[:] =  [n for n in tuple_group_copy if n not in unique_domi]\n",
    "    \n",
    "    ### delete all the duplicates in the tuple list  \n",
    "    unique2 = [unique_tuple_group.append(x) for x in tuple_group_copy if x not in unique_tuple_group]\n",
    "         \n",
    "    return unique_tuple_group\n",
    "    \n",
    "\n",
    "\n",
    "def add_and_update_archive(neighbour_tuples, archive_tuple) :\n",
    "    \n",
    "    \"\"\" pour chaque nouvel élément potentiel, comparer cet élément à tout l'archive \n",
    "    Si l'élément domine un élément de l'archive, supprimer ce dernier et ajouter le nouvel élément\n",
    "    Si l'élément se fait dominer au moins une fois, supprimer l'élement \n",
    "    Sinon, ajouter à l'archive.\"\"\"\n",
    "    \n",
    "    who_to_del = 0 \n",
    "    neigh_is_worse = False\n",
    "    neighs_to_add = []\n",
    "    unique_archive = []\n",
    "   \n",
    "    archive_tuple_copy = archive_tuple.copy()\n",
    "    \n",
    "    for neighbour in neighbour_tuples :\n",
    "        \n",
    "        \n",
    "        for arch in reversed(archive_tuple_copy) : \n",
    "            \n",
    "            #print('treating another arch')\n",
    "                   \n",
    "            who_to_del = compare_two_points(neighbour,arch)\n",
    "            \n",
    "            if who_to_del == 2 :\n",
    "                \n",
    "                #print(\"on va del qqun dans l'arch : \", arch)\n",
    "                #print(\"celui qui l'a éliminé \", neighbour)\n",
    "                archive_tuple_copy[:] = [x for x in archive_tuple_copy if x != arch]\n",
    "            \n",
    "            if who_to_del == 1 :\n",
    "                #print(' issue : neighbour is worse than someone in the archive')\n",
    "                neigh_is_worse = True\n",
    "                break\n",
    "                \n",
    "        if neigh_is_worse == False :\n",
    "            neighs_to_add.append(neighbour)\n",
    "            \n",
    "            neigh_is_worse = False\n",
    "        \n",
    "                \n",
    "            #print('after boucle if \\n')   \n",
    "            #print(archive_tuple_copy)\n",
    "    \n",
    "    #print('neight to add : \\n' ,neighs_to_add)\n",
    "    archive_tuple_copy.extend(neighs_to_add)\n",
    "    #print('full archive \\n: ' , archive_tuple_copy)\n",
    "    \n",
    "    unique = [unique_archive.append(x) for x in archive_tuple_copy if x not in unique_archive]\n",
    "    \n",
    "    #print('type unique_arch ' , type(unique_archive))\n",
    "    \n",
    "    return unique_archive"
   ]
  },
  {
   "cell_type": "code",
   "execution_count": 11,
   "metadata": {
    "collapsed": true
   },
   "outputs": [],
   "source": [
    "def compare_old_and_new_archive(archive_old,archive_new) :\n",
    "    \n",
    "    equivalent_found = 0\n",
    "    archive_changed = True;\n",
    "\n",
    "    for new in archive_new :   \n",
    "    \n",
    "        for old in archive_old :    \n",
    "\n",
    "            #print(old[0].x)\n",
    "            #print(type(old))\n",
    "            #print(new.x)\n",
    "\n",
    "            if old.x == new.x :\n",
    "\n",
    "                equivalent_found += 1\n",
    "                continue;\n",
    "    #print(\"number of equivalences found : \", equivalent_found)\n",
    "    if (equivalent_found == len(archive_new) & len(archive_old) == len(archive_new)):\n",
    "        archive_changed = False;\n",
    "\n",
    "    #print('archive changed : '  , archive_changed)  \n",
    "    \n",
    "\n",
    "    return archive_changed \n"
   ]
  },
  {
   "cell_type": "code",
   "execution_count": 13,
   "metadata": {
    "collapsed": true
   },
   "outputs": [],
   "source": [
    "### gauthier\n",
    "\n",
    "\n",
    "def update_iterations_count(change,iterations_count):\n",
    "  if change==False:\n",
    "    iterations_count+=1\n",
    "    #print(iterations_count)\n",
    "  else:\n",
    "    iterations_count=0\n",
    "    #print(iterations_count)\n",
    "  return iterations_count\n",
    "\n",
    "\n",
    "def stop_condition(iterations_count,limite):\n",
    "  if iterations_count > limite:\n",
    "    return 0\n",
    "  else:\n",
    "    return 1"
   ]
  },
  {
   "cell_type": "code",
   "execution_count": 14,
   "metadata": {
    "collapsed": true
   },
   "outputs": [],
   "source": [
    "### here's the main\n",
    "\n",
    "# nombre de points à l'initialisation\n",
    "n_init = 500\n",
    "## nombre d'objectifs\n",
    "n_obj = 2\n",
    "## nombre de voisins par voisinage\n",
    "n_neighbour = 30\n",
    "\n",
    "## nombre de \"chromosomes\" permutés d'un voisin\n",
    "nPermut = 3\n",
    "\n",
    "# l'archive a été modifiée?\n",
    "archive_changed = False\n",
    "\n",
    "# nombre d'itérations\n",
    "iterations_count=0\n",
    "\n",
    "#n_max d'itérations sans changements\n",
    "limite = 10\n",
    "\n",
    "## lecture de fichier\n",
    "filepath = 'Data/'\n",
    "dim, obj = read_data(filepath+'LAP-8-3objSOL.dat')\n"
   ]
  },
  {
   "cell_type": "code",
   "execution_count": 16,
   "metadata": {},
   "outputs": [
    {
     "name": "stdout",
     "output_type": "stream",
     "text": [
      "\n",
      "        dim : 8 \n",
      "        obj : [array([[ 1,  6,  5,  2,  5, 10,  3,  6],\n",
      "       [ 7,  8,  9,  2,  7,  2,  9,  2],\n",
      "       [ 7, 10,  3, 10,  3,  6,  3,  2],\n",
      "       [ 9,  6,  5,  2,  7,  6,  3,  2],\n",
      "       [ 3,  6,  1,  6,  3, 10,  5,  6],\n",
      "       [ 7, 10,  5,  4,  5,  2,  3,  6],\n",
      "       [ 5,  8,  3,  8,  7,  8,  9,  6],\n",
      "       [ 3,  4,  1,  6,  5,  6,  7,  4]]), array([[ 3, 20, 17,  2, 15,  4, 17,  2],\n",
      "       [19, 20,  5, 14, 11, 12,  9, 10],\n",
      "       [19,  4, 17,  2,  3,  8, 13,  6],\n",
      "       [ 3, 16,  5, 14, 19, 16, 13,  6],\n",
      "       [19, 20, 17,  6, 19, 16, 17, 10],\n",
      "       [ 3, 12, 17, 10, 11,  8, 13,  6],\n",
      "       [19, 16,  1, 18,  3, 20,  1, 10],\n",
      "       [ 7, 16,  1, 18, 19,  8, 17, 14]]), array([[ 1,  6, 13, 22, 21, 28,  3, 28],\n",
      "       [ 9, 12, 11, 20, 13, 14,  7,  4],\n",
      "       [19, 24, 19,  2, 13, 24, 15, 22],\n",
      "       [ 5,  4,  1, 14, 19, 22,  1,  2],\n",
      "       [ 1, 30, 21, 26, 13, 30,  9, 18],\n",
      "       [ 1, 16, 11,  6,  7, 16, 29, 16],\n",
      "       [ 3, 24, 29,  8, 19, 14, 15, 14],\n",
      "       [ 5, 26,  9, 24,  3, 18, 19, 10]]), array([[31, 16, 21, 22, 27, 12, 17, 26],\n",
      "       [31, 16,  5,  6, 11, 36, 25, 26],\n",
      "       [31,  8,  5, 14, 19, 12, 25, 26],\n",
      "       [23, 16, 37, 38, 11, 20, 25, 10],\n",
      "       [23, 24, 37, 30, 19, 12, 17, 34],\n",
      "       [31, 40,  5, 22,  3,  4, 25, 26],\n",
      "       [23, 32, 13, 38,  3, 12, 33, 26],\n",
      "       [15, 16, 37, 38, 11, 36,  9, 34]])]\n",
      "        init : <function init at 0x7f2b05194620>\n",
      "    \n"
     ]
    }
   ],
   "source": [
    "## initialisation de l'archive\n",
    "ini = init(dim, n_init)\n",
    "print(f\"\"\"\n",
    "        dim : {dim} \n",
    "        obj : {obj}\n",
    "        init : {init}\n",
    "    \"\"\")\n",
    "\n",
    "\n",
    "obj = obj[0:n_obj]"
   ]
  },
  {
   "cell_type": "code",
   "execution_count": 17,
   "metadata": {},
   "outputs": [],
   "source": [
    "## obtention de tuples + cleanage archive\n",
    "tupled_ini = x_and_sol_to_named_tuple(ini,obj)\n",
    "archive = compare_and_delete(tupled_ini)"
   ]
  },
  {
   "cell_type": "code",
   "execution_count": 18,
   "metadata": {},
   "outputs": [
    {
     "name": "stdout",
     "output_type": "stream",
     "text": [
      "iteration # 0\n",
      "LA nvlle archive :  [Combo(x=[3, 5, 7, 6, 1, 0, 4, 2], solution=[30, 60]), Combo(x=[3, 5, 4, 1, 7, 0, 6, 2], solution=[36, 48]), Combo(x=[7, 1, 4, 0, 3, 5, 6, 2], solution=[44, 44]), Combo(x=[1, 3, 6, 7, 4, 5, 2, 0], solution=[24, 88]), Combo(x=[1, 3, 4, 7, 0, 5, 6, 2], solution=[28, 72])]\n",
      "iteration # 10000\n",
      "LA nvlle archive :  [Combo(x=[0, 3, 4, 7, 1, 5, 6, 2], solution=[26, 56]), Combo(x=[0, 6, 1, 7, 3, 5, 4, 2], solution=[38, 40]), Combo(x=[7, 6, 1, 0, 3, 5, 4, 2], solution=[50, 36]), Combo(x=[0, 3, 6, 7, 4, 5, 2, 1], solution=[20, 80]), Combo(x=[0, 3, 4, 6, 7, 5, 2, 1], solution=[24, 68])]\n",
      "iteration # 20000\n",
      "LA nvlle archive :  [Combo(x=[0, 7, 4, 1, 3, 5, 6, 2], solution=[30, 48]), Combo(x=[0, 5, 4, 7, 3, 1, 6, 2], solution=[34, 44]), Combo(x=[6, 3, 1, 7, 4, 5, 2, 0], solution=[28, 76]), Combo(x=[0, 3, 6, 7, 4, 5, 1, 2], solution=[22, 80])]\n",
      "iteration # 30000\n",
      "LA nvlle archive :  [Combo(x=[0, 5, 4, 7, 1, 3, 6, 2], solution=[28, 56]), Combo(x=[0, 5, 4, 7, 3, 1, 6, 2], solution=[34, 44]), Combo(x=[0, 6, 4, 7, 3, 5, 2, 1], solution=[30, 52]), Combo(x=[0, 3, 4, 7, 6, 5, 2, 1], solution=[22, 68]), Combo(x=[0, 7, 4, 6, 3, 5, 2, 1], solution=[24, 60])]\n",
      "iteration # 40000\n",
      "LA nvlle archive :  [Combo(x=[7, 6, 1, 0, 3, 5, 4, 2], solution=[50, 36]), Combo(x=[0, 3, 4, 7, 1, 5, 6, 2], solution=[26, 56]), Combo(x=[0, 4, 1, 7, 3, 5, 6, 2], solution=[38, 40]), Combo(x=[0, 6, 4, 7, 3, 5, 2, 1], solution=[30, 52]), Combo(x=[0, 3, 6, 7, 4, 5, 2, 1], solution=[20, 80])]\n",
      "iteration # 50000\n",
      "LA nvlle archive :  [Combo(x=[0, 5, 1, 7, 3, 4, 6, 2], solution=[36, 44]), Combo(x=[0, 1, 4, 7, 3, 5, 6, 2], solution=[32, 48]), Combo(x=[0, 6, 1, 7, 3, 5, 4, 2], solution=[38, 40]), Combo(x=[7, 4, 1, 0, 3, 5, 6, 2], solution=[50, 36]), Combo(x=[0, 6, 4, 7, 3, 5, 2, 1], solution=[30, 52]), Combo(x=[0, 3, 4, 7, 6, 5, 2, 1], solution=[22, 68])]\n",
      "iteration # 60000\n",
      "LA nvlle archive :  [Combo(x=[0, 3, 4, 7, 6, 5, 2, 1], solution=[22, 68]), Combo(x=[0, 3, 6, 7, 4, 5, 2, 1], solution=[20, 80]), Combo(x=[0, 7, 4, 1, 3, 5, 6, 2], solution=[30, 48]), Combo(x=[0, 7, 4, 6, 3, 5, 2, 1], solution=[24, 60])]\n",
      "iteration # 70000\n",
      "LA nvlle archive :  [Combo(x=[0, 3, 4, 7, 1, 5, 6, 2], solution=[26, 56])]\n",
      "iteration # 80000\n",
      "LA nvlle archive :  [Combo(x=[0, 3, 4, 7, 1, 5, 6, 2], solution=[26, 56]), Combo(x=[0, 3, 4, 7, 6, 5, 2, 1], solution=[22, 68])]\n",
      "iteration # 90000\n",
      "LA nvlle archive :  [Combo(x=[0, 5, 4, 7, 3, 1, 6, 2], solution=[34, 44]), Combo(x=[0, 1, 4, 7, 3, 5, 6, 2], solution=[32, 48]), Combo(x=[0, 6, 4, 7, 3, 5, 2, 1], solution=[30, 52]), Combo(x=[3, 7, 4, 6, 0, 5, 2, 1], solution=[22, 72]), Combo(x=[0, 7, 4, 6, 3, 5, 2, 1], solution=[24, 60])]\n",
      "iteration # 100000\n",
      "LA nvlle archive :  [Combo(x=[0, 4, 1, 7, 3, 5, 6, 2], solution=[38, 40]), Combo(x=[3, 7, 4, 6, 0, 5, 2, 1], solution=[22, 72]), Combo(x=[0, 7, 4, 6, 3, 5, 2, 1], solution=[24, 60])]\n",
      "iteration # 110000\n",
      "LA nvlle archive :  [Combo(x=[0, 3, 6, 7, 1, 5, 4, 2], solution=[24, 68]), Combo(x=[0, 3, 4, 7, 1, 5, 6, 2], solution=[26, 56]), Combo(x=[0, 5, 4, 7, 3, 1, 6, 2], solution=[34, 44]), Combo(x=[0, 7, 4, 1, 3, 5, 6, 2], solution=[30, 48])]\n",
      "iteration # 120000\n",
      "LA nvlle archive :  [Combo(x=[0, 3, 4, 7, 6, 5, 2, 1], solution=[22, 68]), Combo(x=[0, 3, 4, 7, 1, 5, 6, 2], solution=[26, 56])]\n",
      "iteration # 130000\n",
      "LA nvlle archive :  [Combo(x=[0, 5, 4, 7, 3, 1, 6, 2], solution=[34, 44]), Combo(x=[0, 6, 4, 7, 3, 5, 2, 1], solution=[30, 52]), Combo(x=[3, 5, 4, 7, 6, 0, 2, 1], solution=[28, 60]), Combo(x=[0, 3, 4, 7, 6, 5, 2, 1], solution=[22, 68])]\n",
      "iteration # 140000\n",
      "LA nvlle archive :  [Combo(x=[0, 3, 4, 7, 6, 5, 2, 1], solution=[22, 68]), Combo(x=[0, 3, 6, 7, 4, 5, 2, 1], solution=[20, 80]), Combo(x=[0, 5, 7, 1, 3, 6, 4, 2], solution=[28, 60]), Combo(x=[0, 6, 1, 7, 3, 5, 4, 2], solution=[38, 40]), Combo(x=[0, 5, 1, 7, 3, 4, 6, 2], solution=[36, 44]), Combo(x=[0, 5, 1, 7, 3, 6, 4, 2], solution=[32, 48])]\n",
      "iteration # 150000\n",
      "LA nvlle archive :  [Combo(x=[7, 6, 4, 0, 3, 1, 2, 5], solution=[52, 44]), Combo(x=[0, 2, 4, 7, 3, 5, 6, 1], solution=[36, 48]), Combo(x=[0, 7, 4, 6, 3, 5, 2, 1], solution=[24, 60]), Combo(x=[0, 3, 4, 7, 6, 5, 2, 1], solution=[22, 68]), Combo(x=[0, 6, 4, 7, 3, 5, 2, 1], solution=[30, 52])]\n",
      "iteration # 160000\n",
      "LA nvlle archive :  [Combo(x=[0, 7, 4, 6, 3, 5, 2, 1], solution=[24, 60]), Combo(x=[5, 4, 1, 7, 3, 0, 6, 2], solution=[52, 36]), Combo(x=[0, 3, 4, 7, 1, 5, 6, 2], solution=[26, 56]), Combo(x=[0, 3, 6, 7, 4, 5, 2, 1], solution=[20, 80]), Combo(x=[0, 3, 4, 7, 6, 5, 2, 1], solution=[22, 68]), Combo(x=[0, 4, 1, 7, 3, 5, 6, 2], solution=[38, 40])]\n",
      "iteration # 170000\n",
      "LA nvlle archive :  [Combo(x=[0, 4, 1, 7, 3, 5, 6, 2], solution=[38, 40]), Combo(x=[0, 7, 4, 1, 3, 5, 6, 2], solution=[30, 48]), Combo(x=[0, 7, 4, 3, 1, 5, 6, 2], solution=[26, 60])]\n",
      "iteration # 180000\n",
      "LA nvlle archive :  [Combo(x=[0, 3, 1, 7, 4, 5, 6, 2], solution=[30, 56]), Combo(x=[0, 5, 4, 7, 3, 1, 6, 2], solution=[34, 44]), Combo(x=[0, 1, 4, 7, 3, 5, 6, 2], solution=[32, 48])]\n",
      "iteration # 190000\n",
      "LA nvlle archive :  [Combo(x=[0, 7, 4, 6, 3, 5, 2, 1], solution=[24, 60]), Combo(x=[0, 3, 6, 7, 4, 5, 2, 1], solution=[20, 80]), Combo(x=[0, 3, 4, 7, 6, 5, 2, 1], solution=[22, 68]), Combo(x=[0, 1, 4, 7, 3, 5, 6, 2], solution=[32, 48])]\n",
      "iteration # 200000\n",
      "LA nvlle archive :  [Combo(x=[0, 3, 4, 7, 1, 5, 6, 2], solution=[26, 56]), Combo(x=[0, 1, 4, 7, 3, 5, 6, 2], solution=[32, 48]), Combo(x=[0, 3, 6, 7, 1, 5, 4, 2], solution=[24, 68])]\n",
      "iteration # 210000\n",
      "LA nvlle archive :  [Combo(x=[0, 5, 4, 7, 3, 1, 6, 2], solution=[34, 44]), Combo(x=[0, 3, 4, 7, 6, 5, 2, 1], solution=[22, 68]), Combo(x=[0, 6, 4, 7, 3, 5, 2, 1], solution=[30, 52]), Combo(x=[0, 5, 4, 7, 3, 6, 2, 1], solution=[24, 60])]\n",
      "iteration # 220000\n",
      "LA nvlle archive :  [Combo(x=[0, 3, 4, 7, 1, 5, 6, 2], solution=[26, 56]), Combo(x=[0, 3, 6, 7, 4, 5, 2, 1], solution=[20, 80]), Combo(x=[0, 3, 4, 7, 6, 5, 2, 1], solution=[22, 68]), Combo(x=[0, 5, 4, 7, 3, 6, 2, 1], solution=[24, 60]), Combo(x=[0, 6, 4, 7, 3, 1, 2, 5], solution=[40, 48]), Combo(x=[0, 6, 4, 7, 3, 5, 2, 1], solution=[30, 52])]\n",
      "iteration # 230000\n",
      "LA nvlle archive :  [Combo(x=[0, 3, 4, 7, 1, 5, 6, 2], solution=[26, 56]), Combo(x=[0, 7, 4, 1, 3, 5, 6, 2], solution=[30, 48])]\n",
      "iteration # 240000\n",
      "LA nvlle archive :  [Combo(x=[0, 5, 4, 7, 3, 1, 6, 2], solution=[34, 44]), Combo(x=[7, 2, 4, 0, 3, 1, 6, 5], solution=[58, 40]), Combo(x=[0, 6, 4, 7, 3, 5, 2, 1], solution=[30, 52])]\n",
      "iteration # 250000\n",
      "LA nvlle archive :  [Combo(x=[0, 5, 4, 1, 3, 7, 6, 2], solution=[34, 48]), Combo(x=[7, 5, 4, 0, 3, 1, 6, 2], solution=[46, 40])]\n",
      "iteration # 260000\n",
      "LA nvlle archive :  [Combo(x=[7, 4, 1, 0, 3, 5, 6, 2], solution=[50, 36]), Combo(x=[0, 4, 1, 7, 3, 5, 6, 2], solution=[38, 40]), Combo(x=[0, 2, 4, 7, 3, 5, 6, 1], solution=[36, 48]), Combo(x=[0, 3, 4, 6, 2, 5, 7, 1], solution=[22, 84]), Combo(x=[0, 3, 4, 7, 1, 5, 6, 2], solution=[26, 56])]\n",
      "iteration # 270000\n",
      "LA nvlle archive :  [Combo(x=[0, 3, 4, 7, 1, 5, 6, 2], solution=[26, 56]), Combo(x=[0, 5, 4, 7, 3, 6, 2, 1], solution=[24, 60]), Combo(x=[0, 3, 4, 7, 6, 5, 2, 1], solution=[22, 68]), Combo(x=[0, 3, 7, 6, 4, 5, 2, 1], solution=[20, 80])]\n",
      "iteration # 280000\n",
      "LA nvlle archive :  [Combo(x=[0, 7, 4, 3, 6, 5, 2, 1], solution=[22, 72]), Combo(x=[0, 7, 4, 1, 3, 5, 6, 2], solution=[30, 48]), Combo(x=[0, 4, 1, 7, 3, 5, 6, 2], solution=[38, 40]), Combo(x=[0, 3, 4, 7, 1, 5, 6, 2], solution=[26, 56]), Combo(x=[0, 3, 4, 7, 6, 5, 1, 2], solution=[24, 68])]\n",
      "iteration # 290000\n",
      "LA nvlle archive :  [Combo(x=[0, 2, 4, 7, 3, 5, 6, 1], solution=[36, 48]), Combo(x=[0, 3, 4, 7, 6, 5, 2, 1], solution=[22, 68]), Combo(x=[0, 6, 4, 7, 3, 5, 2, 1], solution=[30, 52]), Combo(x=[0, 5, 4, 7, 3, 6, 2, 1], solution=[24, 60])]\n",
      "iteration # 300000\n",
      "LA nvlle archive :  [Combo(x=[7, 2, 4, 0, 3, 5, 6, 1], solution=[48, 44]), Combo(x=[0, 2, 4, 7, 3, 5, 6, 1], solution=[36, 48])]\n",
      "iteration # 310000\n",
      "LA nvlle archive :  [Combo(x=[7, 6, 3, 0, 1, 5, 4, 2], solution=[50, 48]), Combo(x=[0, 6, 3, 7, 1, 5, 4, 2], solution=[38, 52]), Combo(x=[0, 3, 6, 7, 4, 5, 1, 2], solution=[22, 80]), Combo(x=[0, 3, 7, 6, 1, 5, 4, 2], solution=[24, 68]), Combo(x=[0, 3, 4, 7, 1, 5, 6, 2], solution=[26, 56])]\n",
      "iteration # 320000\n",
      "LA nvlle archive :  [Combo(x=[7, 4, 1, 0, 3, 5, 6, 2], solution=[50, 36]), Combo(x=[0, 4, 1, 7, 3, 5, 6, 2], solution=[38, 40]), Combo(x=[0, 7, 4, 6, 3, 5, 2, 1], solution=[24, 60]), Combo(x=[0, 6, 4, 7, 3, 5, 2, 1], solution=[30, 52])]\n"
     ]
    },
    {
     "name": "stdout",
     "output_type": "stream",
     "text": [
      "iteration # 330000\n",
      "LA nvlle archive :  [Combo(x=[0, 6, 4, 7, 3, 5, 2, 1], solution=[30, 52]), Combo(x=[0, 2, 4, 7, 3, 5, 6, 1], solution=[36, 48]), Combo(x=[0, 7, 4, 6, 3, 5, 2, 1], solution=[24, 60]), Combo(x=[5, 2, 4, 7, 3, 0, 6, 1], solution=[50, 44]), Combo(x=[0, 7, 4, 3, 6, 5, 2, 1], solution=[22, 72])]\n",
      "iteration # 340000\n",
      "LA nvlle archive :  [Combo(x=[0, 5, 1, 7, 3, 4, 6, 2], solution=[36, 44]), Combo(x=[0, 3, 1, 7, 4, 5, 6, 2], solution=[30, 56]), Combo(x=[5, 4, 1, 7, 3, 0, 6, 2], solution=[52, 36]), Combo(x=[0, 6, 1, 7, 3, 5, 4, 2], solution=[38, 40])]\n",
      "iteration # 350000\n",
      "LA nvlle archive :  [Combo(x=[0, 3, 4, 7, 6, 5, 2, 1], solution=[22, 68]), Combo(x=[0, 5, 4, 7, 3, 6, 2, 1], solution=[24, 60]), Combo(x=[0, 3, 4, 7, 1, 5, 6, 2], solution=[26, 56])]\n",
      "iteration # 360000\n",
      "LA nvlle archive :  [Combo(x=[0, 7, 4, 1, 3, 5, 6, 2], solution=[30, 48]), Combo(x=[0, 5, 4, 7, 3, 1, 6, 2], solution=[34, 44]), Combo(x=[0, 3, 4, 7, 1, 5, 6, 2], solution=[26, 56]), Combo(x=[0, 3, 4, 7, 6, 5, 2, 1], solution=[22, 68]), Combo(x=[7, 6, 1, 0, 3, 5, 4, 2], solution=[50, 36]), Combo(x=[0, 4, 1, 7, 3, 5, 6, 2], solution=[38, 40])]\n",
      "iteration # 370000\n",
      "LA nvlle archive :  [Combo(x=[0, 7, 4, 1, 3, 5, 6, 2], solution=[30, 48]), Combo(x=[0, 4, 1, 7, 3, 5, 6, 2], solution=[38, 40])]\n",
      "iteration # 380000\n",
      "LA nvlle archive :  [Combo(x=[0, 3, 6, 7, 4, 5, 2, 1], solution=[20, 80]), Combo(x=[0, 3, 4, 7, 6, 5, 1, 2], solution=[24, 68]), Combo(x=[0, 7, 4, 1, 3, 5, 6, 2], solution=[30, 48]), Combo(x=[0, 3, 4, 7, 1, 5, 6, 2], solution=[26, 56])]\n",
      "iteration # 390000\n",
      "LA nvlle archive :  [Combo(x=[0, 5, 4, 7, 3, 1, 6, 2], solution=[34, 44]), Combo(x=[0, 3, 4, 7, 1, 5, 6, 2], solution=[26, 56]), Combo(x=[0, 3, 4, 7, 6, 5, 2, 1], solution=[22, 68]), Combo(x=[0, 5, 4, 7, 3, 6, 2, 1], solution=[24, 60])]\n",
      "iteration # 400000\n",
      "LA nvlle archive :  [Combo(x=[0, 6, 4, 7, 3, 5, 2, 1], solution=[30, 52]), Combo(x=[0, 7, 4, 6, 3, 5, 2, 1], solution=[24, 60]), Combo(x=[3, 7, 1, 0, 4, 5, 6, 2], solution=[38, 48]), Combo(x=[3, 5, 1, 0, 7, 4, 6, 2], solution=[44, 44]), Combo(x=[7, 4, 1, 0, 3, 5, 6, 2], solution=[50, 36])]\n",
      "iteration # 410000\n",
      "LA nvlle archive :  [Combo(x=[0, 1, 4, 7, 3, 5, 6, 2], solution=[32, 48]), Combo(x=[0, 6, 1, 7, 3, 5, 4, 2], solution=[38, 40]), Combo(x=[0, 3, 4, 7, 1, 5, 6, 2], solution=[26, 56]), Combo(x=[7, 4, 1, 0, 3, 5, 6, 2], solution=[50, 36]), Combo(x=[0, 3, 4, 7, 6, 5, 2, 1], solution=[22, 68]), Combo(x=[0, 7, 4, 6, 3, 5, 2, 1], solution=[24, 60])]\n",
      "iteration # 420000\n",
      "LA nvlle archive :  [Combo(x=[0, 3, 4, 7, 6, 5, 2, 1], solution=[22, 68]), Combo(x=[0, 7, 4, 6, 3, 5, 2, 1], solution=[24, 60]), Combo(x=[0, 1, 4, 7, 3, 5, 6, 2], solution=[32, 48]), Combo(x=[0, 2, 4, 7, 3, 1, 6, 5], solution=[46, 44]), Combo(x=[0, 6, 4, 7, 3, 5, 2, 1], solution=[30, 52])]\n",
      "iteration # 430000\n",
      "LA nvlle archive :  [Combo(x=[3, 5, 4, 7, 1, 0, 6, 2], solution=[32, 48]), Combo(x=[0, 5, 4, 7, 3, 1, 6, 2], solution=[34, 44]), Combo(x=[7, 5, 4, 0, 3, 1, 6, 2], solution=[46, 40]), Combo(x=[0, 6, 4, 7, 3, 5, 2, 1], solution=[30, 52]), Combo(x=[0, 3, 6, 7, 4, 5, 2, 1], solution=[20, 80]), Combo(x=[0, 3, 4, 7, 6, 5, 2, 1], solution=[22, 68])]\n",
      "iteration # 440000\n",
      "LA nvlle archive :  [Combo(x=[0, 5, 4, 7, 3, 1, 6, 2], solution=[34, 44]), Combo(x=[0, 3, 4, 7, 1, 5, 6, 2], solution=[26, 56]), Combo(x=[0, 3, 6, 7, 1, 5, 4, 2], solution=[24, 68]), Combo(x=[0, 1, 4, 7, 3, 5, 6, 2], solution=[32, 48])]\n",
      "iteration # 450000\n",
      "LA nvlle archive :  [Combo(x=[0, 3, 6, 7, 4, 5, 2, 1], solution=[20, 80]), Combo(x=[0, 3, 4, 7, 6, 5, 2, 1], solution=[22, 68]), Combo(x=[0, 6, 1, 7, 3, 5, 4, 2], solution=[38, 40]), Combo(x=[0, 2, 4, 7, 3, 5, 6, 1], solution=[36, 48])]\n",
      "iteration # 460000\n",
      "LA nvlle archive :  [Combo(x=[0, 5, 4, 7, 3, 6, 2, 1], solution=[24, 60]), Combo(x=[7, 4, 1, 0, 3, 5, 6, 2], solution=[50, 36]), Combo(x=[0, 1, 4, 7, 3, 5, 6, 2], solution=[32, 48])]\n",
      "iteration # 470000\n",
      "LA nvlle archive :  [Combo(x=[0, 3, 6, 7, 1, 5, 4, 2], solution=[24, 68]), Combo(x=[0, 1, 4, 7, 3, 5, 6, 2], solution=[32, 48]), Combo(x=[0, 3, 4, 7, 1, 5, 6, 2], solution=[26, 56])]\n",
      "iteration # 480000\n",
      "LA nvlle archive :  [Combo(x=[0, 4, 1, 7, 3, 5, 6, 2], solution=[38, 40]), Combo(x=[0, 6, 4, 7, 3, 5, 2, 1], solution=[30, 52]), Combo(x=[3, 7, 4, 6, 0, 5, 2, 1], solution=[22, 72]), Combo(x=[0, 7, 4, 6, 3, 5, 2, 1], solution=[24, 60])]\n",
      "iteration # 490000\n",
      "LA nvlle archive :  [Combo(x=[0, 7, 4, 6, 3, 5, 2, 1], solution=[24, 60]), Combo(x=[0, 3, 6, 7, 4, 5, 2, 1], solution=[20, 80]), Combo(x=[0, 6, 4, 7, 3, 5, 2, 1], solution=[30, 52])]\n",
      "iteration # 500000\n",
      "LA nvlle archive :  [Combo(x=[0, 4, 1, 7, 3, 5, 6, 2], solution=[38, 40]), Combo(x=[0, 5, 1, 7, 3, 4, 6, 2], solution=[36, 44]), Combo(x=[0, 1, 4, 7, 3, 5, 6, 2], solution=[32, 48])]\n",
      "iteration # 510000\n",
      "LA nvlle archive :  [Combo(x=[0, 2, 4, 7, 3, 1, 6, 5], solution=[46, 44]), Combo(x=[0, 7, 4, 6, 3, 5, 2, 1], solution=[24, 60]), Combo(x=[0, 2, 4, 7, 3, 5, 6, 1], solution=[36, 48]), Combo(x=[0, 3, 4, 7, 6, 5, 2, 1], solution=[22, 68]), Combo(x=[0, 6, 4, 7, 3, 5, 2, 1], solution=[30, 52])]\n",
      "iteration # 520000\n",
      "LA nvlle archive :  [Combo(x=[0, 6, 4, 7, 3, 5, 2, 1], solution=[30, 52]), Combo(x=[0, 3, 6, 7, 4, 5, 2, 1], solution=[20, 80]), Combo(x=[0, 3, 4, 7, 6, 5, 2, 1], solution=[22, 68])]\n",
      "iteration # 530000\n",
      "LA nvlle archive :  [Combo(x=[0, 3, 4, 7, 6, 5, 2, 1], solution=[22, 68]), Combo(x=[0, 6, 4, 7, 3, 5, 2, 1], solution=[30, 52]), Combo(x=[0, 2, 4, 7, 3, 5, 6, 1], solution=[36, 48]), Combo(x=[7, 5, 4, 1, 3, 0, 6, 2], solution=[40, 44])]\n",
      "iteration # 540000\n",
      "LA nvlle archive :  [Combo(x=[0, 5, 4, 7, 3, 1, 6, 2], solution=[34, 44]), Combo(x=[0, 5, 4, 7, 3, 6, 2, 1], solution=[24, 60])]\n",
      "iteration # 550000\n",
      "LA nvlle archive :  [Combo(x=[0, 5, 4, 7, 3, 1, 6, 2], solution=[34, 44]), Combo(x=[0, 4, 1, 7, 3, 5, 6, 2], solution=[38, 40]), Combo(x=[0, 3, 4, 7, 1, 5, 6, 2], solution=[26, 56]), Combo(x=[0, 1, 4, 7, 3, 5, 6, 2], solution=[32, 48])]\n",
      "iteration # 560000\n",
      "LA nvlle archive :  [Combo(x=[0, 7, 4, 1, 3, 5, 6, 2], solution=[30, 48]), Combo(x=[0, 3, 4, 7, 1, 5, 6, 2], solution=[26, 56])]\n",
      "iteration # 570000\n",
      "LA nvlle archive :  [Combo(x=[0, 3, 4, 7, 1, 5, 6, 2], solution=[26, 56]), Combo(x=[0, 7, 4, 1, 3, 5, 6, 2], solution=[30, 48])]\n",
      "iteration # 580000\n",
      "LA nvlle archive :  [Combo(x=[0, 3, 4, 7, 1, 5, 6, 2], solution=[26, 56]), Combo(x=[0, 6, 1, 7, 3, 5, 4, 2], solution=[38, 40]), Combo(x=[0, 3, 6, 7, 4, 5, 2, 1], solution=[20, 80]), Combo(x=[0, 7, 4, 6, 3, 5, 2, 1], solution=[24, 60]), Combo(x=[0, 2, 4, 7, 3, 5, 6, 1], solution=[36, 48]), Combo(x=[0, 3, 4, 7, 6, 5, 2, 1], solution=[22, 68]), Combo(x=[0, 6, 4, 7, 3, 5, 2, 1], solution=[30, 52])]\n",
      "iteration # 590000\n",
      "LA nvlle archive :  [Combo(x=[0, 5, 4, 7, 3, 1, 6, 2], solution=[34, 44]), Combo(x=[7, 4, 1, 0, 3, 5, 6, 2], solution=[50, 36]), Combo(x=[0, 7, 4, 3, 6, 5, 2, 1], solution=[22, 72]), Combo(x=[0, 6, 4, 7, 3, 5, 2, 1], solution=[30, 52]), Combo(x=[0, 7, 4, 6, 3, 5, 2, 1], solution=[24, 60]), Combo(x=[0, 6, 1, 7, 3, 5, 4, 2], solution=[38, 40])]\n",
      "iteration # 600000\n",
      "LA nvlle archive :  [Combo(x=[5, 7, 4, 1, 3, 0, 6, 2], solution=[44, 44]), Combo(x=[0, 7, 4, 1, 3, 5, 6, 2], solution=[30, 48]), Combo(x=[0, 3, 4, 7, 1, 5, 6, 2], solution=[26, 56]), Combo(x=[0, 3, 4, 7, 2, 5, 6, 1], solution=[24, 68])]\n",
      "iteration # 610000\n",
      "LA nvlle archive :  [Combo(x=[3, 5, 4, 7, 1, 0, 6, 2], solution=[32, 48]), Combo(x=[0, 3, 4, 7, 1, 5, 6, 2], solution=[26, 56]), Combo(x=[0, 5, 4, 7, 6, 3, 2, 1], solution=[24, 68])]\n",
      "iteration # 620000\n",
      "LA nvlle archive :  [Combo(x=[0, 7, 4, 1, 3, 5, 6, 2], solution=[30, 48]), Combo(x=[0, 6, 1, 7, 3, 5, 4, 2], solution=[38, 40]), Combo(x=[7, 6, 1, 0, 3, 5, 4, 2], solution=[50, 36]), Combo(x=[0, 3, 6, 7, 1, 5, 4, 2], solution=[24, 68])]\n",
      "iteration # 630000\n",
      "LA nvlle archive :  [Combo(x=[0, 7, 4, 6, 3, 5, 2, 1], solution=[24, 60]), Combo(x=[3, 7, 4, 6, 0, 5, 2, 1], solution=[22, 72]), Combo(x=[0, 7, 4, 1, 3, 5, 6, 2], solution=[30, 48])]\n",
      "iteration # 640000\n",
      "LA nvlle archive :  [Combo(x=[5, 7, 4, 1, 3, 0, 6, 2], solution=[44, 44]), Combo(x=[0, 3, 6, 7, 4, 5, 2, 1], solution=[20, 80]), Combo(x=[0, 5, 4, 7, 3, 6, 2, 1], solution=[24, 60]), Combo(x=[3, 5, 4, 7, 0, 6, 2, 1], solution=[22, 72]), Combo(x=[0, 6, 4, 7, 3, 5, 2, 1], solution=[30, 52])]\n",
      "iteration # 650000\n",
      "LA nvlle archive :  [Combo(x=[0, 3, 4, 7, 6, 5, 2, 1], solution=[22, 68]), Combo(x=[0, 3, 4, 7, 1, 5, 6, 2], solution=[26, 56]), Combo(x=[0, 6, 4, 7, 3, 5, 2, 1], solution=[30, 52])]\n"
     ]
    },
    {
     "name": "stdout",
     "output_type": "stream",
     "text": [
      "iteration # 660000\n",
      "LA nvlle archive :  [Combo(x=[0, 3, 4, 7, 2, 5, 6, 1], solution=[24, 68]), Combo(x=[5, 7, 4, 1, 3, 0, 6, 2], solution=[44, 44]), Combo(x=[0, 7, 4, 3, 1, 5, 6, 2], solution=[26, 60]), Combo(x=[0, 7, 4, 1, 3, 5, 6, 2], solution=[30, 48])]\n",
      "iteration # 670000\n",
      "LA nvlle archive :  [Combo(x=[0, 3, 4, 7, 6, 5, 2, 1], solution=[22, 68]), Combo(x=[0, 7, 4, 1, 3, 5, 6, 2], solution=[30, 48]), Combo(x=[0, 5, 4, 7, 1, 3, 6, 2], solution=[28, 56]), Combo(x=[0, 5, 4, 7, 3, 1, 6, 2], solution=[34, 44])]\n",
      "iteration # 680000\n",
      "LA nvlle archive :  [Combo(x=[0, 3, 4, 7, 6, 5, 2, 1], solution=[22, 68]), Combo(x=[0, 6, 4, 7, 3, 5, 2, 1], solution=[30, 52]), Combo(x=[0, 3, 7, 6, 4, 5, 2, 1], solution=[20, 80]), Combo(x=[0, 7, 4, 6, 3, 5, 1, 2], solution=[26, 60]), Combo(x=[0, 5, 4, 7, 3, 1, 6, 2], solution=[34, 44]), Combo(x=[5, 4, 1, 7, 3, 0, 6, 2], solution=[52, 36]), Combo(x=[0, 6, 1, 7, 3, 5, 4, 2], solution=[38, 40]), Combo(x=[0, 1, 4, 7, 3, 5, 6, 2], solution=[32, 48]), Combo(x=[0, 5, 4, 7, 1, 3, 6, 2], solution=[28, 56])]\n",
      "iteration # 690000\n",
      "LA nvlle archive :  [Combo(x=[0, 3, 4, 7, 6, 5, 2, 1], solution=[22, 68]), Combo(x=[0, 7, 4, 1, 3, 5, 6, 2], solution=[30, 48]), Combo(x=[0, 4, 1, 7, 3, 5, 6, 2], solution=[38, 40]), Combo(x=[0, 3, 6, 7, 4, 5, 2, 1], solution=[20, 80])]\n",
      "iteration # 700000\n",
      "LA nvlle archive :  [Combo(x=[0, 4, 1, 7, 3, 5, 6, 2], solution=[38, 40]), Combo(x=[0, 7, 4, 1, 3, 5, 6, 2], solution=[30, 48]), Combo(x=[0, 5, 1, 7, 3, 4, 6, 2], solution=[36, 44]), Combo(x=[0, 3, 6, 7, 1, 5, 4, 2], solution=[24, 68]), Combo(x=[0, 7, 4, 3, 1, 5, 6, 2], solution=[26, 60])]\n",
      "iteration # 710000\n",
      "LA nvlle archive :  [Combo(x=[0, 3, 4, 7, 1, 5, 6, 2], solution=[26, 56]), Combo(x=[0, 3, 4, 7, 6, 5, 2, 1], solution=[22, 68])]\n",
      "iteration # 720000\n",
      "LA nvlle archive :  [Combo(x=[0, 7, 4, 1, 3, 5, 6, 2], solution=[30, 48]), Combo(x=[0, 3, 6, 7, 4, 5, 1, 2], solution=[22, 80]), Combo(x=[0, 3, 4, 7, 1, 5, 6, 2], solution=[26, 56])]\n",
      "iteration # 730000\n",
      "LA nvlle archive :  [Combo(x=[0, 3, 6, 7, 4, 5, 2, 1], solution=[20, 80]), Combo(x=[0, 6, 4, 7, 3, 5, 2, 1], solution=[30, 52]), Combo(x=[0, 7, 4, 6, 3, 5, 1, 2], solution=[26, 60]), Combo(x=[0, 6, 1, 7, 3, 5, 4, 2], solution=[38, 40]), Combo(x=[0, 7, 1, 6, 3, 5, 4, 2], solution=[32, 48])]\n",
      "iteration # 740000\n",
      "LA nvlle archive :  [Combo(x=[0, 5, 4, 7, 3, 1, 6, 2], solution=[34, 44]), Combo(x=[0, 3, 7, 6, 4, 5, 2, 1], solution=[20, 80]), Combo(x=[0, 6, 4, 7, 3, 5, 2, 1], solution=[30, 52]), Combo(x=[7, 5, 4, 0, 3, 1, 6, 2], solution=[46, 40]), Combo(x=[0, 5, 4, 7, 3, 6, 2, 1], solution=[24, 60]), Combo(x=[3, 5, 4, 7, 0, 6, 2, 1], solution=[22, 72])]\n",
      "iteration # 750000\n",
      "LA nvlle archive :  [Combo(x=[0, 3, 7, 6, 4, 5, 2, 1], solution=[20, 80]), Combo(x=[7, 4, 1, 0, 3, 5, 6, 2], solution=[50, 36]), Combo(x=[0, 3, 4, 7, 6, 5, 2, 1], solution=[22, 68]), Combo(x=[0, 7, 4, 6, 3, 5, 2, 1], solution=[24, 60]), Combo(x=[0, 1, 4, 7, 3, 5, 6, 2], solution=[32, 48]), Combo(x=[0, 6, 4, 7, 3, 5, 2, 1], solution=[30, 52])]\n",
      "iteration # 760000\n",
      "LA nvlle archive :  [Combo(x=[0, 3, 6, 7, 4, 5, 1, 2], solution=[22, 80]), Combo(x=[0, 5, 1, 7, 3, 4, 6, 2], solution=[36, 44]), Combo(x=[7, 4, 1, 0, 3, 5, 6, 2], solution=[50, 36]), Combo(x=[0, 3, 4, 7, 1, 5, 6, 2], solution=[26, 56]), Combo(x=[0, 4, 1, 7, 3, 5, 6, 2], solution=[38, 40]), Combo(x=[0, 7, 4, 1, 3, 5, 6, 2], solution=[30, 48])]\n",
      "iteration # 770000\n",
      "LA nvlle archive :  [Combo(x=[0, 3, 6, 7, 4, 5, 2, 1], solution=[20, 80]), Combo(x=[0, 6, 4, 7, 3, 5, 2, 1], solution=[30, 52]), Combo(x=[0, 5, 4, 7, 3, 6, 2, 1], solution=[24, 60]), Combo(x=[0, 3, 4, 7, 6, 5, 2, 1], solution=[22, 68])]\n",
      "iteration # 780000\n",
      "LA nvlle archive :  [Combo(x=[0, 6, 4, 7, 3, 1, 2, 5], solution=[40, 48]), Combo(x=[3, 7, 4, 6, 0, 5, 2, 1], solution=[22, 72]), Combo(x=[0, 7, 4, 2, 3, 5, 6, 1], solution=[32, 52]), Combo(x=[0, 7, 4, 6, 3, 5, 2, 1], solution=[24, 60])]\n",
      "iteration # 790000\n",
      "LA nvlle archive :  [Combo(x=[7, 4, 1, 0, 3, 5, 6, 2], solution=[50, 36]), Combo(x=[0, 4, 1, 7, 3, 5, 6, 2], solution=[38, 40]), Combo(x=[0, 7, 4, 6, 3, 5, 1, 2], solution=[26, 60]), Combo(x=[0, 7, 4, 3, 6, 5, 1, 2], solution=[24, 72])]\n",
      "iteration # 800000\n",
      "LA nvlle archive :  [Combo(x=[7, 4, 1, 0, 3, 5, 6, 2], solution=[50, 36]), Combo(x=[0, 4, 1, 7, 3, 5, 6, 2], solution=[38, 40]), Combo(x=[0, 3, 4, 7, 1, 5, 6, 2], solution=[26, 56]), Combo(x=[0, 5, 4, 7, 3, 1, 6, 2], solution=[34, 44]), Combo(x=[0, 3, 4, 7, 6, 5, 2, 1], solution=[22, 68])]\n",
      "iteration # 810000\n",
      "LA nvlle archive :  [Combo(x=[0, 3, 6, 7, 4, 5, 2, 1], solution=[20, 80]), Combo(x=[0, 5, 4, 7, 3, 6, 1, 2], solution=[26, 60]), Combo(x=[0, 5, 4, 7, 1, 3, 6, 2], solution=[28, 56]), Combo(x=[0, 1, 4, 7, 3, 5, 6, 2], solution=[32, 48]), Combo(x=[0, 5, 4, 7, 3, 1, 6, 2], solution=[34, 44]), Combo(x=[0, 6, 4, 7, 3, 5, 2, 1], solution=[30, 52]), Combo(x=[0, 3, 4, 7, 6, 5, 2, 1], solution=[22, 68])]\n",
      "iteration # 820000\n",
      "LA nvlle archive :  [Combo(x=[0, 3, 4, 7, 6, 5, 2, 1], solution=[22, 68]), Combo(x=[0, 7, 4, 1, 3, 5, 6, 2], solution=[30, 48]), Combo(x=[7, 5, 4, 1, 3, 0, 6, 2], solution=[40, 44])]\n",
      "iteration # 830000\n",
      "LA nvlle archive :  [Combo(x=[7, 5, 4, 1, 3, 0, 6, 2], solution=[40, 44]), Combo(x=[0, 6, 4, 7, 3, 5, 2, 1], solution=[30, 52]), Combo(x=[0, 3, 6, 7, 4, 5, 2, 1], solution=[20, 80]), Combo(x=[0, 3, 4, 7, 6, 5, 2, 1], solution=[22, 68])]\n",
      "iteration # 840000\n",
      "LA nvlle archive :  [Combo(x=[0, 7, 4, 1, 3, 5, 6, 2], solution=[30, 48]), Combo(x=[0, 5, 4, 7, 3, 1, 6, 2], solution=[34, 44]), Combo(x=[0, 3, 4, 7, 1, 5, 6, 2], solution=[26, 56]), Combo(x=[0, 3, 4, 7, 6, 5, 2, 1], solution=[22, 68]), Combo(x=[7, 6, 1, 0, 3, 5, 4, 2], solution=[50, 36])]\n",
      "iteration # 850000\n",
      "LA nvlle archive :  [Combo(x=[0, 1, 4, 7, 3, 5, 6, 2], solution=[32, 48]), Combo(x=[0, 3, 6, 7, 4, 5, 2, 1], solution=[20, 80])]\n",
      "iteration # 860000\n",
      "LA nvlle archive :  [Combo(x=[7, 5, 4, 0, 3, 1, 6, 2], solution=[46, 40]), Combo(x=[0, 7, 4, 6, 3, 5, 2, 1], solution=[24, 60]), Combo(x=[0, 3, 4, 7, 6, 5, 2, 1], solution=[22, 68]), Combo(x=[0, 6, 4, 7, 3, 5, 2, 1], solution=[30, 52])]\n"
     ]
    },
    {
     "ename": "KeyboardInterrupt",
     "evalue": "",
     "output_type": "error",
     "traceback": [
      "\u001b[0;31m---------------------------------------------------------------------------\u001b[0m",
      "\u001b[0;31mKeyboardInterrupt\u001b[0m                         Traceback (most recent call last)",
      "\u001b[0;32m<ipython-input-18-0cdc13cd9216>\u001b[0m in \u001b[0;36m<module>\u001b[0;34m()\u001b[0m\n\u001b[1;32m     20\u001b[0m \u001b[0;34m\u001b[0m\u001b[0m\n\u001b[1;32m     21\u001b[0m     \u001b[0;31m## Nettoyage du voisinage\u001b[0m\u001b[0;34m\u001b[0m\u001b[0;34m\u001b[0m\u001b[0m\n\u001b[0;32m---> 22\u001b[0;31m     \u001b[0mclean_neighbourhood\u001b[0m \u001b[0;34m=\u001b[0m \u001b[0mcompare_and_delete\u001b[0m\u001b[0;34m(\u001b[0m\u001b[0mtupled_neighbourhood\u001b[0m\u001b[0;34m)\u001b[0m\u001b[0;34m\u001b[0m\u001b[0m\n\u001b[0m\u001b[1;32m     23\u001b[0m \u001b[0;34m\u001b[0m\u001b[0m\n\u001b[1;32m     24\u001b[0m     \u001b[0;31m## ajouter les voisins à l'archive\u001b[0m\u001b[0;34m\u001b[0m\u001b[0;34m\u001b[0m\u001b[0m\n",
      "\u001b[0;32m<ipython-input-10-f6242189eb76>\u001b[0m in \u001b[0;36mcompare_and_delete\u001b[0;34m(tuple_group)\u001b[0m\n\u001b[1;32m    157\u001b[0m \u001b[0;34m\u001b[0m\u001b[0m\n\u001b[1;32m    158\u001b[0m \u001b[0;34m\u001b[0m\u001b[0m\n\u001b[0;32m--> 159\u001b[0;31m             \u001b[0mwho_to_del\u001b[0m \u001b[0;34m=\u001b[0m \u001b[0mcompare_two_points\u001b[0m\u001b[0;34m(\u001b[0m\u001b[0mtuple1\u001b[0m\u001b[0;34m,\u001b[0m\u001b[0mtuple2\u001b[0m\u001b[0;34m,\u001b[0m\u001b[0;34m)\u001b[0m\u001b[0;34m\u001b[0m\u001b[0m\n\u001b[0m\u001b[1;32m    160\u001b[0m \u001b[0;34m\u001b[0m\u001b[0m\n\u001b[1;32m    161\u001b[0m             \u001b[0;32mif\u001b[0m \u001b[0mwho_to_del\u001b[0m \u001b[0;34m==\u001b[0m \u001b[0;36m1\u001b[0m \u001b[0;34m:\u001b[0m\u001b[0;34m\u001b[0m\u001b[0m\n",
      "\u001b[0;32m<ipython-input-10-f6242189eb76>\u001b[0m in \u001b[0;36mcompare_two_points\u001b[0;34m(tuple1, tuple2)\u001b[0m\n\u001b[1;32m    124\u001b[0m     \u001b[0;31m#print(comp_set)\u001b[0m\u001b[0;34m\u001b[0m\u001b[0;34m\u001b[0m\u001b[0m\n\u001b[1;32m    125\u001b[0m \u001b[0;34m\u001b[0m\u001b[0m\n\u001b[0;32m--> 126\u001b[0;31m     \u001b[0;32mif\u001b[0m \u001b[0mall\u001b[0m\u001b[0;34m(\u001b[0m\u001b[0mx\u001b[0m \u001b[0;32min\u001b[0m \u001b[0;34m[\u001b[0m\u001b[0;36m0\u001b[0m\u001b[0;34m,\u001b[0m\u001b[0;36m1\u001b[0m\u001b[0;34m]\u001b[0m \u001b[0;32mfor\u001b[0m \u001b[0mx\u001b[0m \u001b[0;32min\u001b[0m \u001b[0mcomp_set\u001b[0m\u001b[0;34m)\u001b[0m \u001b[0;34m|\u001b[0m \u001b[0;34m(\u001b[0m\u001b[0;34m{\u001b[0m\u001b[0;36m1\u001b[0m\u001b[0;34m}\u001b[0m \u001b[0;34m==\u001b[0m \u001b[0mcomp_set\u001b[0m\u001b[0;34m)\u001b[0m \u001b[0;34m:\u001b[0m\u001b[0;34m\u001b[0m\u001b[0m\n\u001b[0m\u001b[1;32m    127\u001b[0m         \u001b[0;31m#print('on delete le 2e element : ' , tuple2)\u001b[0m\u001b[0;34m\u001b[0m\u001b[0;34m\u001b[0m\u001b[0m\n\u001b[1;32m    128\u001b[0m         \u001b[0melem_to_del\u001b[0m \u001b[0;34m=\u001b[0m \u001b[0;36m2\u001b[0m\u001b[0;34m\u001b[0m\u001b[0m\n",
      "\u001b[0;31mKeyboardInterrupt\u001b[0m: "
     ]
    }
   ],
   "source": [
    "i = 0 \n",
    "\n",
    "while (i<1000000) :\n",
    "    \n",
    "    #print('iteration #',i)\n",
    "    \n",
    "    ## select a random element from the archive\n",
    "    original_neigh = random.choice(archive)\n",
    "    #print(original_neigh)\n",
    "\n",
    "    ## calcul de voisin d'un point de l'archive\n",
    "    neighbourhood = findNeighboursA(original_neigh.x, n_neighbour,nPermut)\n",
    "\n",
    "    ## calcul des solutions des voisins\n",
    "    tupled_neighbourhood = x_and_sol_to_named_tuple(neighbourhood,obj)\n",
    "\n",
    "    ## ajouter l'original au voisinage\n",
    "    #tupled_neighbourhood.append(Combo(original_neigh.x,original_neigh.solution))\n",
    "    tupled_neighbourhood.extend([original_neigh])\n",
    "\n",
    "    ## Nettoyage du voisinage\n",
    "    clean_neighbourhood = compare_and_delete(tupled_neighbourhood)\n",
    "\n",
    "    ## ajouter les voisins à l'archive\n",
    "    new_archive= add_and_update_archive(clean_neighbourhood,archive)\n",
    "\n",
    "    ## comparer si l'ancien archive et la nouvelle sont identiques\n",
    "    archive_changed = compare_old_and_new_archive(archive ,new_archive)\n",
    "    \n",
    "    ## nouvelle archive = l'ancienne\n",
    "    archive = new_archive\n",
    "    \n",
    "    if (i%10000 == 0) :\n",
    "        print('iteration #',i)\n",
    "        print(\"LA nvlle archive : \", archive)\n",
    "\n",
    "    ## condition d'arret\n",
    "    iterations_count = update_iterations_count(archive_changed, iterations_count)\n",
    "    test = stop_condition(iterations_count,limite)  \n",
    "    \n",
    "    i += 1\n",
    "    \n",
    "    if (i == 999999) :\n",
    "        print('iteration #',i)\n",
    "        print(\"LA nvlle archive : \", archive)\n",
    "    \n",
    "    if test == False:\n",
    "        print(\"test\", test , \"iterations_count\", iterations_count, \"limite\", limite)\n",
    "        print(\"FINAL ARCHIVE : \", archive)\n",
    "        break\n"
   ]
  },
  {
   "cell_type": "code",
   "execution_count": null,
   "metadata": {},
   "outputs": [],
   "source": [
    "archive"
   ]
  },
  {
   "cell_type": "markdown",
   "metadata": {},
   "source": [
    "### save the file numbers ughuhuh"
   ]
  },
  {
   "cell_type": "code",
   "execution_count": 172,
   "metadata": {
    "collapsed": true
   },
   "outputs": [],
   "source": [
    "file = open('nos_solutions\\8x83obtry2.txt','w') "
   ]
  },
  {
   "cell_type": "code",
   "execution_count": 173,
   "metadata": {},
   "outputs": [
    {
     "name": "stdout",
     "output_type": "stream",
     "text": [
      "[0, 4, 3, 1, 7, 5, 6, 2]\n",
      "[0, 7, 6, 3, 4, 5, 1, 2]\n",
      "[5, 7, 3, 1, 4, 0, 6, 2]\n",
      "[0, 7, 6, 1, 4, 5, 3, 2]\n",
      "[6, 7, 3, 1, 0, 4, 5, 2]\n",
      "[0, 7, 3, 1, 6, 5, 4, 2]\n",
      "[0, 7, 3, 6, 1, 5, 4, 2]\n",
      "[0, 5, 6, 7, 4, 3, 2, 1]\n",
      "[0, 4, 6, 7, 3, 5, 2, 1]\n"
     ]
    }
   ],
   "source": [
    "for arch in archive :\n",
    "    for x in arch.x :\n",
    "        file.write(str(x))\n",
    "        file.write(' ')\n",
    "    file.write('\\n')\n",
    "    print (arch.x)"
   ]
  },
  {
   "cell_type": "code",
   "execution_count": 174,
   "metadata": {},
   "outputs": [
    {
     "name": "stdout",
     "output_type": "stream",
     "text": [
      "[42, 52, 78]\n",
      "[22, 84, 96]\n",
      "[48, 56, 76]\n",
      "[26, 88, 70]\n",
      "[38, 96, 44]\n",
      "[34, 60, 64]\n",
      "[32, 60, 82]\n",
      "[22, 80, 106]\n",
      "[28, 64, 128]\n"
     ]
    }
   ],
   "source": [
    "for arch in archive :\n",
    "    for xol in arch.solution :\n",
    "        file.write(str(xol))\n",
    "        file.write(' ')\n",
    "    file.write('\\n')\n",
    "    print (arch.solution)"
   ]
  },
  {
   "cell_type": "code",
   "execution_count": null,
   "metadata": {
    "collapsed": true
   },
   "outputs": [],
   "source": [
    "tupled_ini = x_and_sol_to_named_tuple(ini,obj)"
   ]
  },
  {
   "cell_type": "code",
   "execution_count": null,
   "metadata": {
    "collapsed": true
   },
   "outputs": [],
   "source": [
    "type(tupled_ini)"
   ]
  },
  {
   "cell_type": "code",
   "execution_count": null,
   "metadata": {
    "collapsed": true
   },
   "outputs": [],
   "source": [
    "tupled_ini"
   ]
  },
  {
   "cell_type": "code",
   "execution_count": null,
   "metadata": {
    "collapsed": true
   },
   "outputs": [],
   "source": [
    "archive = compare_and_delete(tupled_ini)"
   ]
  },
  {
   "cell_type": "code",
   "execution_count": null,
   "metadata": {
    "collapsed": true
   },
   "outputs": [],
   "source": [
    "type(archive)"
   ]
  },
  {
   "cell_type": "code",
   "execution_count": null,
   "metadata": {
    "collapsed": true
   },
   "outputs": [],
   "source": [
    "archive"
   ]
  },
  {
   "cell_type": "code",
   "execution_count": null,
   "metadata": {
    "collapsed": true
   },
   "outputs": [],
   "source": [
    "#### JUSQU ICI OK"
   ]
  },
  {
   "cell_type": "code",
   "execution_count": null,
   "metadata": {
    "collapsed": true
   },
   "outputs": [],
   "source": [
    "original_neigh = random.choice(archive)\n",
    "print(original_neigh)"
   ]
  },
  {
   "cell_type": "code",
   "execution_count": null,
   "metadata": {
    "collapsed": true
   },
   "outputs": [],
   "source": [
    "type(original_neigh)"
   ]
  },
  {
   "cell_type": "code",
   "execution_count": null,
   "metadata": {
    "collapsed": true
   },
   "outputs": [],
   "source": [
    "####Ok"
   ]
  },
  {
   "cell_type": "code",
   "execution_count": null,
   "metadata": {
    "collapsed": true
   },
   "outputs": [],
   "source": [
    "## calcul de voisin d'un point de l'archive\n",
    "neighbourhood = findNeighbours(original_neigh.x, n_neighbour)\n"
   ]
  },
  {
   "cell_type": "code",
   "execution_count": null,
   "metadata": {
    "collapsed": true
   },
   "outputs": [],
   "source": [
    "type(original_neigh.x)"
   ]
  },
  {
   "cell_type": "code",
   "execution_count": null,
   "metadata": {
    "collapsed": true
   },
   "outputs": [],
   "source": [
    "original_neigh.x"
   ]
  },
  {
   "cell_type": "code",
   "execution_count": null,
   "metadata": {
    "collapsed": true
   },
   "outputs": [],
   "source": [
    "type(neighbourhood)"
   ]
  },
  {
   "cell_type": "code",
   "execution_count": null,
   "metadata": {
    "collapsed": true
   },
   "outputs": [],
   "source": [
    "neighbourhood"
   ]
  },
  {
   "cell_type": "code",
   "execution_count": null,
   "metadata": {
    "collapsed": true
   },
   "outputs": [],
   "source": [
    "#### jusqu'ici ok."
   ]
  },
  {
   "cell_type": "code",
   "execution_count": null,
   "metadata": {
    "collapsed": true
   },
   "outputs": [],
   "source": [
    "## calcul des solutions des voisins\n",
    "tupled_neighbourhood = x_and_sol_to_named_tuple(neighbourhood,obj)\n"
   ]
  },
  {
   "cell_type": "code",
   "execution_count": null,
   "metadata": {
    "collapsed": true
   },
   "outputs": [],
   "source": [
    "print(obj)\n",
    "print(type(obj))"
   ]
  },
  {
   "cell_type": "code",
   "execution_count": null,
   "metadata": {
    "collapsed": true
   },
   "outputs": [],
   "source": [
    "print(tupled_neighbourhood)"
   ]
  },
  {
   "cell_type": "code",
   "execution_count": null,
   "metadata": {
    "collapsed": true
   },
   "outputs": [],
   "source": [
    "print(type(tupled_neighbourhood))\n",
    "print(type(tupled_neighbourhood[0]))"
   ]
  },
  {
   "cell_type": "code",
   "execution_count": null,
   "metadata": {
    "collapsed": true
   },
   "outputs": [],
   "source": [
    "#### jusqu'ici ok"
   ]
  },
  {
   "cell_type": "code",
   "execution_count": null,
   "metadata": {
    "collapsed": true
   },
   "outputs": [],
   "source": [
    "## ajouter l'original au voisinage\n",
    "    #tupled_neighbourhood.append(Combo(original_neigh.x,original_neigh.solution))\n",
    "tupled_neighbourhood.extend([original_neigh])"
   ]
  },
  {
   "cell_type": "code",
   "execution_count": null,
   "metadata": {
    "collapsed": true
   },
   "outputs": [],
   "source": [
    "print(tupled_neighbourhood)"
   ]
  },
  {
   "cell_type": "code",
   "execution_count": null,
   "metadata": {
    "collapsed": true
   },
   "outputs": [],
   "source": [
    "print(type(tupled_neighbourhood))\n",
    "print(type(tupled_neighbourhood[0]))"
   ]
  },
  {
   "cell_type": "code",
   "execution_count": null,
   "metadata": {
    "collapsed": true
   },
   "outputs": [],
   "source": [
    "#### OK"
   ]
  },
  {
   "cell_type": "code",
   "execution_count": null,
   "metadata": {
    "collapsed": true
   },
   "outputs": [],
   "source": [
    "## Nettoyage du voisinage\n",
    "clean_neighbourhood = compare_and_delete(tupled_neighbourhood)\n"
   ]
  },
  {
   "cell_type": "code",
   "execution_count": null,
   "metadata": {
    "collapsed": true
   },
   "outputs": [],
   "source": [
    "print(clean_neighbourhood)"
   ]
  },
  {
   "cell_type": "code",
   "execution_count": null,
   "metadata": {
    "collapsed": true
   },
   "outputs": [],
   "source": [
    "print(type(clean_neighbourhood))"
   ]
  },
  {
   "cell_type": "code",
   "execution_count": null,
   "metadata": {
    "collapsed": true
   },
   "outputs": [],
   "source": [
    "##\" okok"
   ]
  },
  {
   "cell_type": "code",
   "execution_count": null,
   "metadata": {
    "collapsed": true
   },
   "outputs": [],
   "source": [
    "## ajouter les voisins à l'archive\n",
    "new_archive= add_and_update_archive(clean_neighbourhood,archive)"
   ]
  },
  {
   "cell_type": "code",
   "execution_count": null,
   "metadata": {
    "collapsed": true
   },
   "outputs": [],
   "source": [
    "print(new_archive)"
   ]
  },
  {
   "cell_type": "code",
   "execution_count": null,
   "metadata": {
    "collapsed": true
   },
   "outputs": [],
   "source": [
    "###NE DEVRAIT PAS ETRE TUPLE LOL.\n",
    "print(type(new_archive))"
   ]
  },
  {
   "cell_type": "code",
   "execution_count": null,
   "metadata": {
    "collapsed": true
   },
   "outputs": [],
   "source": [
    "## comparer si l'ancien archive et la nouvelle sont identiques\n",
    "archive_changed = compare_old_and_new_archive(archive ,new_archive)\n",
    "    \n"
   ]
  },
  {
   "cell_type": "code",
   "execution_count": null,
   "metadata": {
    "collapsed": true
   },
   "outputs": [],
   "source": [
    "print(archive_changed)"
   ]
  },
  {
   "cell_type": "code",
   "execution_count": null,
   "metadata": {
    "collapsed": true
   },
   "outputs": [],
   "source": [
    "## nouvelle archive = l'ancienne\n",
    "archive = new_archive"
   ]
  },
  {
   "cell_type": "code",
   "execution_count": null,
   "metadata": {
    "collapsed": true
   },
   "outputs": [],
   "source": [
    "print(archive)"
   ]
  },
  {
   "cell_type": "code",
   "execution_count": null,
   "metadata": {
    "collapsed": true
   },
   "outputs": [],
   "source": []
  },
  {
   "cell_type": "code",
   "execution_count": null,
   "metadata": {
    "collapsed": true
   },
   "outputs": [],
   "source": []
  },
  {
   "cell_type": "code",
   "execution_count": null,
   "metadata": {
    "collapsed": true
   },
   "outputs": [],
   "source": []
  },
  {
   "cell_type": "code",
   "execution_count": null,
   "metadata": {
    "collapsed": true
   },
   "outputs": [],
   "source": []
  },
  {
   "cell_type": "code",
   "execution_count": 28,
   "metadata": {
    "collapsed": true
   },
   "outputs": [],
   "source": [
    "### how to compare 2 archives ?\n",
    "\n",
    "x1 = [0,1,2,3,4,5,7,6]\n",
    "x2 = [0,1,2,3,4,5,6,7]\n",
    "x2 = [7,6,5,4,3,2,1,0]\n",
    "x3 = [0,1,4,6,5,3,2,7]\n",
    "x4 = [0,1,4,7,6,5,3,2]\n",
    "x5 = [0,1,2,3,6,7,4,5]\n",
    "\n",
    "#[x1,x2,x3,x4,x5] = x_and_sol_to_named_tuple([x1,x2,x3,x4,x5],obj)\n",
    "      \n",
    "x1 = x_and_sol_to_named_tuple(x1,obj)\n",
    "x2 = x_and_sol_to_named_tuple(x2,obj)\n",
    "x3 = x_and_sol_to_named_tuple(x3,obj)\n",
    "x4 = x_and_sol_to_named_tuple(x4,obj)\n",
    "x5 = x_and_sol_to_named_tuple(x5,obj)     "
   ]
  },
  {
   "cell_type": "code",
   "execution_count": 29,
   "metadata": {},
   "outputs": [
    {
     "data": {
      "text/plain": [
       "[Combo(x=[0, 1, 2, 3, 4, 5, 7, 6], solution=[32, 108, 108])]"
      ]
     },
     "execution_count": 29,
     "metadata": {},
     "output_type": "execute_result"
    }
   ],
   "source": [
    "x1"
   ]
  },
  {
   "cell_type": "code",
   "execution_count": 30,
   "metadata": {},
   "outputs": [
    {
     "data": {
      "text/plain": [
       "[Combo(x=[7, 6, 5, 4, 3, 2, 1, 0], solution=[50, 84, 144])]"
      ]
     },
     "execution_count": 30,
     "metadata": {},
     "output_type": "execute_result"
    }
   ],
   "source": [
    "x2"
   ]
  },
  {
   "cell_type": "code",
   "execution_count": 31,
   "metadata": {},
   "outputs": [
    {
     "data": {
      "text/plain": [
       "[Combo(x=[0, 1, 4, 6, 5, 3, 2, 7], solution=[36, 80, 102])]"
      ]
     },
     "execution_count": 31,
     "metadata": {},
     "output_type": "execute_result"
    }
   ],
   "source": [
    "x3"
   ]
  },
  {
   "cell_type": "code",
   "execution_count": 32,
   "metadata": {},
   "outputs": [
    {
     "data": {
      "text/plain": [
       "[Combo(x=[0, 1, 4, 7, 6, 5, 3, 2], solution=[30, 76, 70])]"
      ]
     },
     "execution_count": 32,
     "metadata": {},
     "output_type": "execute_result"
    }
   ],
   "source": [
    "x4"
   ]
  },
  {
   "cell_type": "code",
   "execution_count": 33,
   "metadata": {},
   "outputs": [
    {
     "data": {
      "text/plain": [
       "[Combo(x=[0, 1, 2, 3, 6, 7, 4, 5], solution=[38, 88, 108])]"
      ]
     },
     "execution_count": 33,
     "metadata": {},
     "output_type": "execute_result"
    }
   ],
   "source": [
    "x5"
   ]
  },
  {
   "cell_type": "code",
   "execution_count": 48,
   "metadata": {
    "collapsed": true
   },
   "outputs": [],
   "source": [
    "perfect = Combo(x=[0,1,2,3,4,5,6], solution =[0,0,0])"
   ]
  },
  {
   "cell_type": "code",
   "execution_count": 49,
   "metadata": {
    "collapsed": true
   },
   "outputs": [],
   "source": [
    "worst = Combo(x=[0,1,2,3,4,5,6], solution =[1000,1000,1000])"
   ]
  },
  {
   "cell_type": "code",
   "execution_count": 159,
   "metadata": {
    "collapsed": true
   },
   "outputs": [],
   "source": [
    "hup1 = Combo(x=[0,1,2,3,4,5,6], solution =[42,84,58])\n",
    "hup2= Combo(x=[0,1,2,3,4,5,6], solution =[34,88,62])\n",
    "hup3 = Combo(x=[0,1,2,3,4,5,6], solution =[30,96,54])\n",
    "hup4 = Combo(x=[0,1,2,3,4,5,6], solution =[34,56,90])\n",
    "hup5 = Combo(x=[0,1,2,3,4,5,6], solution =[28,104,72])\n",
    "hup6 = Combo(x=[0,1,2,3,4,5,6], solution =[34,60,64])\n",
    "\n",
    "hupa = Combo(x=[0,1,2,3,4,5,6], solution =[28,68,84])\n",
    "hupb = Combo(x=[0,1,2,3,4,5,6], solution =[28,100,78])\n",
    "hupc = Combo(x=[0,1,2,3,4,5,6], solution =[52,44,116])\n",
    "hupd = Combo(x=[0,1,2,3,4,5,6], solution =[52,64,68])"
   ]
  },
  {
   "cell_type": "code",
   "execution_count": 160,
   "metadata": {
    "collapsed": true
   },
   "outputs": [],
   "source": [
    "hupletter =  [hupa,hupb,hupc,hupd]\n",
    "hupdecib =[hup1,hup2,hup3,hup4,hup5,hup6]"
   ]
  },
  {
   "cell_type": "code",
   "execution_count": 164,
   "metadata": {
    "scrolled": true
   },
   "outputs": [
    {
     "data": {
      "text/plain": [
       "[Combo(x=[0, 1, 2, 3, 4, 5, 6], solution=[42, 84, 58]),\n",
       " Combo(x=[0, 1, 2, 3, 4, 5, 6], solution=[34, 88, 62]),\n",
       " Combo(x=[0, 1, 2, 3, 4, 5, 6], solution=[30, 96, 54]),\n",
       " Combo(x=[0, 1, 2, 3, 4, 5, 6], solution=[34, 56, 90]),\n",
       " Combo(x=[0, 1, 2, 3, 4, 5, 6], solution=[28, 104, 72]),\n",
       " Combo(x=[0, 1, 2, 3, 4, 5, 6], solution=[34, 60, 64]),\n",
       " Combo(x=[0, 1, 2, 3, 4, 5, 6], solution=[28, 68, 84]),\n",
       " Combo(x=[0, 1, 2, 3, 4, 5, 6], solution=[28, 100, 78]),\n",
       " Combo(x=[0, 1, 2, 3, 4, 5, 6], solution=[52, 44, 116])]"
      ]
     },
     "execution_count": 164,
     "metadata": {},
     "output_type": "execute_result"
    }
   ],
   "source": [
    "add_and_update_archive(hupletter,hupdecib)"
   ]
  },
  {
   "cell_type": "code",
   "execution_count": null,
   "metadata": {
    "collapsed": true
   },
   "outputs": [],
   "source": []
  },
  {
   "cell_type": "code",
   "execution_count": null,
   "metadata": {
    "collapsed": true
   },
   "outputs": [],
   "source": [
    "print(archive_old)"
   ]
  },
  {
   "cell_type": "code",
   "execution_count": null,
   "metadata": {
    "collapsed": true
   },
   "outputs": [],
   "source": [
    "equivalent_found = 0\n",
    "archive_changed = True;\n",
    "\n",
    "for new in archive_new :   \n",
    "    \n",
    "    for old in archive_old :    \n",
    "        \n",
    "        #print(old[0].x)\n",
    "        #print(type(old))\n",
    "        #print(new.x)\n",
    "        \n",
    "        if old[0].x == new[0].x :\n",
    "            \n",
    "            equivalent_found += 1\n",
    "            continue;\n",
    "print(\"number of equivalences found : \", equivalent_found)\n",
    "if (equivalent_found == len(archive_new) & len(archive_old) == len(archive_new)):\n",
    "    archive_changed = False;\n",
    "            \n",
    "print('archive changed : '  , archive_changed)   \n",
    "\n",
    "return archive_changed"
   ]
  },
  {
   "cell_type": "code",
   "execution_count": null,
   "metadata": {
    "collapsed": true
   },
   "outputs": [],
   "source": [
    "set_1 = set(archive_1)\n",
    "set_2 = set(archive_2)"
   ]
  },
  {
   "cell_type": "code",
   "execution_count": null,
   "metadata": {
    "collapsed": true
   },
   "outputs": [],
   "source": [
    "archive_1 == archive_2"
   ]
  },
  {
   "cell_type": "code",
   "execution_count": null,
   "metadata": {
    "collapsed": true
   },
   "outputs": [],
   "source": []
  },
  {
   "cell_type": "code",
   "execution_count": null,
   "metadata": {
    "collapsed": true
   },
   "outputs": [],
   "source": [
    "#newNeighbour[permut_rows[0]] = newNeighbour[permut_rows[-1]]\n",
    "#print(newNeighbour)"
   ]
  },
  {
   "cell_type": "code",
   "execution_count": null,
   "metadata": {
    "collapsed": true
   },
   "outputs": [],
   "source": [
    "for tmp,row in zip(reversed(temps),permut_rows) :   \n",
    "    newNeighbour[row] = tmp\n",
    "    print(newNeighbour)\n",
    "    \n",
    "\n",
    "#tmp = newNeighbour[row]\n",
    "    \n",
    "         \n",
    "    "
   ]
  },
  {
   "cell_type": "code",
   "execution_count": null,
   "metadata": {
    "collapsed": true
   },
   "outputs": [],
   "source": [
    "newNeighbour = [0,1,2,3,4,5,6,7]\n",
    "nbNeighbour = 5"
   ]
  },
  {
   "cell_type": "code",
   "execution_count": null,
   "metadata": {
    "collapsed": true
   },
   "outputs": [],
   "source": [
    "findNeighbours(newNeighbour, nbNeighbour,5)"
   ]
  },
  {
   "cell_type": "code",
   "execution_count": null,
   "metadata": {
    "collapsed": true
   },
   "outputs": [],
   "source": [
    "[row1,row2,row3,row4] = random.sample(X,4)"
   ]
  },
  {
   "cell_type": "code",
   "execution_count": null,
   "metadata": {
    "collapsed": true
   },
   "outputs": [],
   "source": [
    "x1"
   ]
  },
  {
   "cell_type": "code",
   "execution_count": null,
   "metadata": {
    "collapsed": true
   },
   "outputs": [],
   "source": [
    "x2"
   ]
  },
  {
   "cell_type": "code",
   "execution_count": null,
   "metadata": {
    "collapsed": true
   },
   "outputs": [],
   "source": [
    "x3"
   ]
  },
  {
   "cell_type": "code",
   "execution_count": null,
   "metadata": {
    "collapsed": true
   },
   "outputs": [],
   "source": [
    "x4"
   ]
  },
  {
   "cell_type": "code",
   "execution_count": null,
   "metadata": {
    "collapsed": true
   },
   "outputs": [],
   "source": [
    "x5"
   ]
  },
  {
   "cell_type": "code",
   "execution_count": 43,
   "metadata": {},
   "outputs": [
    {
     "data": {
      "text/plain": [
       "0"
      ]
     },
     "execution_count": 43,
     "metadata": {},
     "output_type": "execute_result"
    }
   ],
   "source": [
    "compare_two_points(x2[0],x5[0])"
   ]
  },
  {
   "cell_type": "code",
   "execution_count": null,
   "metadata": {
    "collapsed": true
   },
   "outputs": [],
   "source": [
    "all(x in {0, 1, -1} for x in [0,1])"
   ]
  },
  {
   "cell_type": "code",
   "execution_count": null,
   "metadata": {
    "collapsed": true
   },
   "outputs": [],
   "source": [
    "all(x in [0,1] for x in {0, 1, -1})"
   ]
  },
  {
   "cell_type": "code",
   "execution_count": 6,
   "metadata": {},
   "outputs": [
    {
     "name": "stdout",
     "output_type": "stream",
     "text": [
      "coucou : 100\n",
      "coucou : 200\n",
      "coucou : 300\n",
      "coucou : 400\n",
      "coucou : 500\n",
      "coucou : 600\n",
      "coucou : 700\n",
      "coucou : 800\n",
      "coucou : 900\n",
      "coucou : 1000\n",
      "coucou : 1100\n",
      "coucou : 1200\n",
      "coucou : 1300\n",
      "coucou : 1400\n",
      "coucou : 1500\n",
      "coucou : 1600\n",
      "coucou : 1700\n",
      "coucou : 1800\n",
      "coucou : 1900\n",
      "coucou : 2000\n",
      "coucou : 2100\n",
      "coucou : 2200\n",
      "coucou : 2300\n",
      "coucou : 2400\n",
      "coucou : 2500\n",
      "coucou : 2600\n",
      "coucou : 2700\n",
      "coucou : 2800\n",
      "coucou : 2900\n",
      "coucou : 3000\n",
      "coucou : 3100\n",
      "coucou : 3200\n",
      "coucou : 3300\n",
      "coucou : 3400\n",
      "coucou : 3500\n",
      "coucou : 3600\n",
      "coucou : 3700\n",
      "coucou : 3800\n",
      "coucou : 3900\n",
      "coucou : 4000\n",
      "coucou : 4100\n",
      "coucou : 4200\n",
      "coucou : 4300\n",
      "coucou : 4400\n",
      "coucou : 4500\n",
      "coucou : 4600\n",
      "coucou : 4700\n",
      "coucou : 4800\n",
      "coucou : 4900\n",
      "coucou : 5000\n",
      "coucou : 5100\n",
      "coucou : 5200\n",
      "coucou : 5300\n",
      "coucou : 5400\n",
      "coucou : 5500\n",
      "coucou : 5600\n",
      "coucou : 5700\n",
      "coucou : 5800\n",
      "coucou : 5900\n",
      "coucou : 6000\n",
      "coucou : 6100\n",
      "coucou : 6200\n",
      "coucou : 6300\n",
      "coucou : 6400\n",
      "coucou : 6500\n",
      "coucou : 6600\n",
      "coucou : 6700\n",
      "coucou : 6800\n",
      "coucou : 6900\n",
      "coucou : 7000\n",
      "coucou : 7100\n",
      "coucou : 7200\n",
      "coucou : 7300\n",
      "coucou : 7400\n",
      "coucou : 7500\n",
      "coucou : 7600\n",
      "coucou : 7700\n",
      "coucou : 7800\n",
      "coucou : 7900\n",
      "coucou : 8000\n",
      "coucou : 8100\n",
      "coucou : 8200\n",
      "coucou : 8300\n",
      "coucou : 8400\n",
      "coucou : 8500\n",
      "coucou : 8600\n",
      "coucou : 8700\n",
      "coucou : 8800\n",
      "coucou : 8900\n",
      "coucou : 9000\n",
      "coucou : 9100\n",
      "coucou : 9200\n",
      "coucou : 9300\n",
      "coucou : 9400\n",
      "coucou : 9500\n",
      "coucou : 9600\n",
      "coucou : 9700\n",
      "coucou : 9800\n",
      "coucou : 9900\n",
      "coucou : 10000\n",
      "coucou : 10100\n",
      "coucou : 10200\n",
      "coucou : 10300\n",
      "coucou : 10400\n",
      "coucou : 10500\n",
      "coucou : 10600\n",
      "coucou : 10700\n",
      "coucou : 10800\n",
      "coucou : 10900\n",
      "coucou : 11000\n",
      "coucou : 11100\n",
      "coucou : 11200\n",
      "coucou : 11300\n",
      "coucou : 11400\n",
      "coucou : 11500\n",
      "coucou : 11600\n",
      "coucou : 11700\n",
      "coucou : 11800\n",
      "coucou : 11900\n",
      "coucou : 12000\n",
      "coucou : 12100\n",
      "coucou : 12200\n",
      "coucou : 12300\n",
      "coucou : 12400\n",
      "coucou : 12500\n",
      "coucou : 12600\n",
      "coucou : 12700\n",
      "coucou : 12800\n",
      "coucou : 12900\n",
      "coucou : 13000\n",
      "coucou : 13100\n",
      "coucou : 13200\n",
      "coucou : 13300\n",
      "coucou : 13400\n",
      "coucou : 13500\n",
      "coucou : 13600\n",
      "coucou : 13700\n",
      "coucou : 13800\n",
      "coucou : 13900\n",
      "coucou : 14000\n",
      "coucou : 14100\n",
      "coucou : 14200\n",
      "coucou : 14300\n",
      "coucou : 14400\n",
      "coucou : 14500\n",
      "coucou : 14600\n",
      "coucou : 14700\n",
      "coucou : 14800\n",
      "coucou : 14900\n",
      "coucou : 15000\n",
      "coucou : 15100\n",
      "coucou : 15200\n",
      "coucou : 15300\n",
      "coucou : 15400\n",
      "coucou : 15500\n",
      "coucou : 15600\n",
      "coucou : 15700\n",
      "coucou : 15800\n",
      "coucou : 15900\n",
      "coucou : 16000\n",
      "coucou : 16100\n",
      "coucou : 16200\n",
      "coucou : 16300\n",
      "coucou : 16400\n",
      "coucou : 16500\n",
      "coucou : 16600\n",
      "coucou : 16700\n",
      "coucou : 16800\n",
      "coucou : 16900\n",
      "coucou : 17000\n",
      "coucou : 17100\n",
      "coucou : 17200\n",
      "coucou : 17300\n",
      "coucou : 17400\n",
      "coucou : 17500\n",
      "coucou : 17600\n",
      "coucou : 17700\n",
      "coucou : 17800\n",
      "coucou : 17900\n",
      "coucou : 18000\n",
      "coucou : 18100\n",
      "coucou : 18200\n",
      "coucou : 18300\n",
      "coucou : 18400\n",
      "coucou : 18500\n",
      "coucou : 18600\n",
      "coucou : 18700\n",
      "coucou : 18800\n",
      "coucou : 18900\n",
      "coucou : 19000\n",
      "coucou : 19100\n",
      "coucou : 19200\n",
      "coucou : 19300\n",
      "coucou : 19400\n",
      "coucou : 19500\n",
      "coucou : 19600\n",
      "coucou : 19700\n",
      "coucou : 19800\n",
      "coucou : 19900\n",
      "coucou : 20000\n",
      "coucou : 20100\n",
      "coucou : 20200\n",
      "coucou : 20300\n",
      "coucou : 20400\n",
      "coucou : 20500\n",
      "coucou : 20600\n",
      "coucou : 20700\n",
      "coucou : 20800\n",
      "coucou : 20900\n",
      "coucou : 21000\n",
      "coucou : 21100\n",
      "coucou : 21200\n",
      "coucou : 21300\n",
      "coucou : 21400\n",
      "coucou : 21500\n",
      "coucou : 21600\n",
      "coucou : 21700\n",
      "coucou : 21800\n",
      "coucou : 21900\n",
      "coucou : 22000\n",
      "coucou : 22100\n",
      "coucou : 22200\n",
      "coucou : 22300\n",
      "coucou : 22400\n",
      "coucou : 22500\n",
      "coucou : 22600\n",
      "coucou : 22700\n",
      "coucou : 22800\n",
      "coucou : 22900\n",
      "coucou : 23000\n",
      "coucou : 23100\n",
      "coucou : 23200\n",
      "coucou : 23300\n",
      "coucou : 23400\n",
      "coucou : 23500\n",
      "coucou : 23600\n",
      "coucou : 23700\n",
      "coucou : 23800\n",
      "coucou : 23900\n",
      "coucou : 24000\n",
      "coucou : 24100\n",
      "coucou : 24200\n",
      "coucou : 24300\n",
      "coucou : 24400\n",
      "coucou : 24500\n",
      "coucou : 24600\n",
      "coucou : 24700\n",
      "coucou : 24800\n",
      "coucou : 24900\n",
      "coucou : 25000\n",
      "coucou : 25100\n",
      "coucou : 25200\n",
      "coucou : 25300\n",
      "coucou : 25400\n",
      "coucou : 25500\n",
      "coucou : 25600\n",
      "coucou : 25700\n",
      "coucou : 25800\n",
      "coucou : 25900\n",
      "coucou : 26000\n",
      "coucou : 26100\n",
      "coucou : 26200\n",
      "coucou : 26300\n",
      "coucou : 26400\n",
      "coucou : 26500\n",
      "coucou : 26600\n",
      "coucou : 26700\n",
      "coucou : 26800\n",
      "coucou : 26900\n",
      "coucou : 27000\n",
      "coucou : 27100\n",
      "coucou : 27200\n",
      "coucou : 27300\n",
      "coucou : 27400\n",
      "coucou : 27500\n",
      "coucou : 27600\n",
      "coucou : 27700\n",
      "coucou : 27800\n",
      "coucou : 27900\n",
      "coucou : 28000\n",
      "coucou : 28100\n",
      "coucou : 28200\n",
      "coucou : 28300\n",
      "coucou : 28400\n",
      "coucou : 28500\n",
      "coucou : 28600\n",
      "coucou : 28700\n",
      "coucou : 28800\n",
      "coucou : 28900\n",
      "coucou : 29000\n",
      "coucou : 29100\n",
      "coucou : 29200\n",
      "coucou : 29300\n",
      "coucou : 29400\n",
      "coucou : 29500\n",
      "coucou : 29600\n",
      "coucou : 29700\n",
      "coucou : 29800\n",
      "coucou : 29900\n",
      "coucou : 30000\n",
      "coucou : 30100\n",
      "coucou : 30200\n",
      "coucou : 30300\n",
      "coucou : 30400\n",
      "coucou : 30500\n",
      "coucou : 30600\n",
      "coucou : 30700\n",
      "coucou : 30800\n",
      "coucou : 30900\n",
      "coucou : 31000\n",
      "coucou : 31100\n",
      "coucou : 31200\n",
      "coucou : 31300\n",
      "coucou : 31400\n",
      "coucou : 31500\n",
      "coucou : 31600\n",
      "coucou : 31700\n",
      "coucou : 31800\n",
      "coucou : 31900\n",
      "coucou : 32000\n",
      "coucou : 32100\n",
      "coucou : 32200\n",
      "coucou : 32300\n",
      "coucou : 32400\n",
      "coucou : 32500\n",
      "coucou : 32600\n",
      "coucou : 32700\n",
      "coucou : 32800\n",
      "coucou : 32900\n",
      "coucou : 33000\n",
      "coucou : 33100\n",
      "coucou : 33200\n",
      "coucou : 33300\n",
      "coucou : 33400\n",
      "coucou : 33500\n",
      "coucou : 33600\n",
      "coucou : 33700\n",
      "coucou : 33800\n",
      "coucou : 33900\n",
      "coucou : 34000\n",
      "coucou : 34100\n",
      "coucou : 34200\n",
      "coucou : 34300\n",
      "coucou : 34400\n",
      "coucou : 34500\n",
      "coucou : 34600\n",
      "coucou : 34700\n",
      "coucou : 34800\n",
      "coucou : 34900\n",
      "coucou : 35000\n",
      "coucou : 35100\n",
      "coucou : 35200\n",
      "coucou : 35300\n",
      "coucou : 35400\n",
      "coucou : 35500\n",
      "coucou : 35600\n",
      "coucou : 35700\n",
      "coucou : 35800\n",
      "coucou : 35900\n",
      "coucou : 36000\n",
      "coucou : 36100\n",
      "coucou : 36200\n",
      "coucou : 36300\n",
      "coucou : 36400\n",
      "coucou : 36500\n",
      "coucou : 36600\n",
      "coucou : 36700\n",
      "coucou : 36800\n",
      "coucou : 36900\n",
      "coucou : 37000\n",
      "coucou : 37100\n",
      "coucou : 37200\n",
      "coucou : 37300\n",
      "coucou : 37400\n",
      "coucou : 37500\n",
      "coucou : 37600\n",
      "coucou : 37700\n",
      "coucou : 37800\n",
      "coucou : 37900\n",
      "coucou : 38000\n",
      "coucou : 38100\n",
      "coucou : 38200\n",
      "coucou : 38300\n",
      "coucou : 38400\n",
      "coucou : 38500\n",
      "coucou : 38600\n",
      "coucou : 38700\n",
      "coucou : 38800\n",
      "coucou : 38900\n",
      "coucou : 39000\n",
      "coucou : 39100\n",
      "coucou : 39200\n",
      "coucou : 39300\n",
      "coucou : 39400\n",
      "coucou : 39500\n",
      "coucou : 39600\n",
      "coucou : 39700\n",
      "coucou : 39800\n",
      "coucou : 39900\n",
      "coucou : 40000\n",
      "coucou : 40100\n",
      "coucou : 40200\n",
      "coucou : 40300\n",
      "coucou : 40400\n",
      "coucou : 40500\n",
      "coucou : 40600\n",
      "coucou : 40700\n",
      "coucou : 40800\n",
      "coucou : 40900\n",
      "coucou : 41000\n",
      "coucou : 41100\n",
      "coucou : 41200\n",
      "coucou : 41300\n",
      "coucou : 41400\n",
      "coucou : 41500\n",
      "coucou : 41600\n",
      "coucou : 41700\n",
      "coucou : 41800\n",
      "coucou : 41900\n",
      "coucou : 42000\n",
      "coucou : 42100\n",
      "coucou : 42200\n",
      "coucou : 42300\n",
      "coucou : 42400\n",
      "coucou : 42500\n",
      "coucou : 42600\n",
      "coucou : 42700\n",
      "coucou : 42800\n",
      "coucou : 42900\n",
      "coucou : 43000\n",
      "coucou : 43100\n",
      "coucou : 43200\n",
      "coucou : 43300\n",
      "coucou : 43400\n",
      "coucou : 43500\n",
      "coucou : 43600\n",
      "coucou : 43700\n",
      "coucou : 43800\n",
      "coucou : 43900\n",
      "coucou : 44000\n",
      "coucou : 44100\n",
      "coucou : 44200\n",
      "coucou : 44300\n",
      "coucou : 44400\n",
      "coucou : 44500\n",
      "coucou : 44600\n",
      "coucou : 44700\n",
      "coucou : 44800\n",
      "coucou : 44900\n",
      "coucou : 45000\n",
      "coucou : 45100\n",
      "coucou : 45200\n",
      "coucou : 45300\n",
      "coucou : 45400\n",
      "coucou : 45500\n",
      "coucou : 45600\n",
      "coucou : 45700\n",
      "coucou : 45800\n",
      "coucou : 45900\n",
      "coucou : 46000\n",
      "coucou : 46100\n",
      "coucou : 46200\n",
      "coucou : 46300\n",
      "coucou : 46400\n",
      "coucou : 46500\n",
      "coucou : 46600\n",
      "coucou : 46700\n",
      "coucou : 46800\n",
      "coucou : 46900\n",
      "coucou : 47000\n",
      "coucou : 47100\n",
      "coucou : 47200\n",
      "coucou : 47300\n",
      "coucou : 47400\n",
      "coucou : 47500\n",
      "coucou : 47600\n",
      "coucou : 47700\n",
      "coucou : 47800\n",
      "coucou : 47900\n",
      "coucou : 48000\n",
      "coucou : 48100\n",
      "coucou : 48200\n",
      "coucou : 48300\n",
      "coucou : 48400\n",
      "coucou : 48500\n",
      "coucou : 48600\n",
      "coucou : 48700\n",
      "coucou : 48800\n",
      "coucou : 48900\n",
      "coucou : 49000\n",
      "coucou : 49100\n",
      "coucou : 49200\n",
      "coucou : 49300\n",
      "coucou : 49400\n",
      "coucou : 49500\n",
      "coucou : 49600\n",
      "coucou : 49700\n",
      "coucou : 49800\n",
      "coucou : 49900\n",
      "coucou : 50000\n",
      "coucou : 50100\n",
      "coucou : 50200\n",
      "coucou : 50300\n",
      "coucou : 50400\n",
      "coucou : 50500\n",
      "coucou : 50600\n",
      "coucou : 50700\n",
      "coucou : 50800\n",
      "coucou : 50900\n",
      "coucou : 51000\n",
      "coucou : 51100\n",
      "coucou : 51200\n",
      "coucou : 51300\n",
      "coucou : 51400\n",
      "coucou : 51500\n",
      "coucou : 51600\n",
      "coucou : 51700\n",
      "coucou : 51800\n",
      "coucou : 51900\n",
      "coucou : 52000\n",
      "coucou : 52100\n",
      "coucou : 52200\n",
      "coucou : 52300\n",
      "coucou : 52400\n",
      "coucou : 52500\n",
      "coucou : 52600\n",
      "coucou : 52700\n",
      "coucou : 52800\n",
      "coucou : 52900\n",
      "coucou : 53000\n",
      "coucou : 53100\n",
      "coucou : 53200\n",
      "coucou : 53300\n",
      "coucou : 53400\n",
      "coucou : 53500\n",
      "coucou : 53600\n",
      "coucou : 53700\n",
      "coucou : 53800\n",
      "coucou : 53900\n",
      "coucou : 54000\n",
      "coucou : 54100\n",
      "coucou : 54200\n",
      "coucou : 54300\n",
      "coucou : 54400\n",
      "coucou : 54500\n",
      "coucou : 54600\n",
      "coucou : 54700\n",
      "coucou : 54800\n",
      "coucou : 54900\n",
      "coucou : 55000\n",
      "coucou : 55100\n",
      "coucou : 55200\n",
      "coucou : 55300\n",
      "coucou : 55400\n",
      "coucou : 55500\n",
      "coucou : 55600\n",
      "coucou : 55700\n",
      "coucou : 55800\n",
      "coucou : 55900\n",
      "coucou : 56000\n",
      "coucou : 56100\n",
      "coucou : 56200\n",
      "coucou : 56300\n",
      "coucou : 56400\n",
      "coucou : 56500\n",
      "coucou : 56600\n",
      "coucou : 56700\n",
      "coucou : 56800\n",
      "coucou : 56900\n",
      "coucou : 57000\n",
      "coucou : 57100\n",
      "coucou : 57200\n",
      "coucou : 57300\n",
      "coucou : 57400\n",
      "coucou : 57500\n",
      "coucou : 57600\n",
      "coucou : 57700\n",
      "coucou : 57800\n",
      "coucou : 57900\n",
      "coucou : 58000\n",
      "coucou : 58100\n",
      "coucou : 58200\n",
      "coucou : 58300\n",
      "coucou : 58400\n",
      "coucou : 58500\n",
      "coucou : 58600\n",
      "coucou : 58700\n",
      "coucou : 58800\n",
      "coucou : 58900\n",
      "coucou : 59000\n",
      "coucou : 59100\n",
      "coucou : 59200\n",
      "coucou : 59300\n",
      "coucou : 59400\n",
      "coucou : 59500\n",
      "coucou : 59600\n",
      "coucou : 59700\n",
      "coucou : 59800\n",
      "coucou : 59900\n",
      "coucou : 60000\n",
      "coucou : 60100\n",
      "coucou : 60200\n",
      "coucou : 60300\n",
      "coucou : 60400\n",
      "coucou : 60500\n",
      "coucou : 60600\n",
      "coucou : 60700\n",
      "coucou : 60800\n",
      "coucou : 60900\n",
      "coucou : 61000\n",
      "coucou : 61100\n",
      "coucou : 61200\n",
      "coucou : 61300\n",
      "coucou : 61400\n",
      "coucou : 61500\n",
      "coucou : 61600\n",
      "coucou : 61700\n",
      "coucou : 61800\n",
      "coucou : 61900\n",
      "coucou : 62000\n",
      "coucou : 62100\n",
      "coucou : 62200\n",
      "coucou : 62300\n",
      "coucou : 62400\n",
      "coucou : 62500\n",
      "coucou : 62600\n",
      "coucou : 62700\n",
      "coucou : 62800\n",
      "coucou : 62900\n",
      "coucou : 63000\n",
      "coucou : 63100\n",
      "coucou : 63200\n",
      "coucou : 63300\n",
      "coucou : 63400\n",
      "coucou : 63500\n",
      "coucou : 63600\n",
      "coucou : 63700\n",
      "coucou : 63800\n",
      "coucou : 63900\n",
      "coucou : 64000\n",
      "coucou : 64100\n",
      "coucou : 64200\n",
      "coucou : 64300\n",
      "coucou : 64400\n",
      "coucou : 64500\n",
      "coucou : 64600\n",
      "coucou : 64700\n",
      "coucou : 64800\n",
      "coucou : 64900\n",
      "coucou : 65000\n",
      "coucou : 65100\n",
      "coucou : 65200\n",
      "coucou : 65300\n",
      "coucou : 65400\n",
      "coucou : 65500\n",
      "coucou : 65600\n",
      "coucou : 65700\n",
      "coucou : 65800\n",
      "coucou : 65900\n",
      "coucou : 66000\n",
      "coucou : 66100\n",
      "coucou : 66200\n",
      "coucou : 66300\n",
      "coucou : 66400\n",
      "coucou : 66500\n",
      "coucou : 66600\n",
      "coucou : 66700\n",
      "coucou : 66800\n",
      "coucou : 66900\n",
      "coucou : 67000\n",
      "coucou : 67100\n",
      "coucou : 67200\n",
      "coucou : 67300\n",
      "coucou : 67400\n",
      "coucou : 67500\n",
      "coucou : 67600\n",
      "coucou : 67700\n",
      "coucou : 67800\n",
      "coucou : 67900\n",
      "coucou : 68000\n",
      "coucou : 68100\n",
      "coucou : 68200\n",
      "coucou : 68300\n",
      "coucou : 68400\n",
      "coucou : 68500\n",
      "coucou : 68600\n",
      "coucou : 68700\n",
      "coucou : 68800\n",
      "coucou : 68900\n",
      "coucou : 69000\n",
      "coucou : 69100\n",
      "coucou : 69200\n",
      "coucou : 69300\n",
      "coucou : 69400\n",
      "coucou : 69500\n",
      "coucou : 69600\n",
      "coucou : 69700\n",
      "coucou : 69800\n",
      "coucou : 69900\n",
      "coucou : 70000\n",
      "coucou : 70100\n",
      "coucou : 70200\n",
      "coucou : 70300\n",
      "coucou : 70400\n",
      "coucou : 70500\n",
      "coucou : 70600\n",
      "coucou : 70700\n",
      "coucou : 70800\n",
      "coucou : 70900\n",
      "coucou : 71000\n",
      "coucou : 71100\n",
      "coucou : 71200\n",
      "coucou : 71300\n",
      "coucou : 71400\n",
      "coucou : 71500\n",
      "coucou : 71600\n",
      "coucou : 71700\n",
      "coucou : 71800\n",
      "coucou : 71900\n",
      "coucou : 72000\n",
      "coucou : 72100\n",
      "coucou : 72200\n",
      "coucou : 72300\n",
      "coucou : 72400\n",
      "coucou : 72500\n",
      "coucou : 72600\n",
      "coucou : 72700\n",
      "coucou : 72800\n",
      "coucou : 72900\n",
      "coucou : 73000\n",
      "coucou : 73100\n",
      "coucou : 73200\n",
      "coucou : 73300\n",
      "coucou : 73400\n",
      "coucou : 73500\n",
      "coucou : 73600\n",
      "coucou : 73700\n",
      "coucou : 73800\n",
      "coucou : 73900\n",
      "coucou : 74000\n",
      "coucou : 74100\n",
      "coucou : 74200\n",
      "coucou : 74300\n",
      "coucou : 74400\n",
      "coucou : 74500\n",
      "coucou : 74600\n",
      "coucou : 74700\n",
      "coucou : 74800\n",
      "coucou : 74900\n",
      "coucou : 75000\n",
      "coucou : 75100\n",
      "coucou : 75200\n",
      "coucou : 75300\n",
      "coucou : 75400\n",
      "coucou : 75500\n",
      "coucou : 75600\n",
      "coucou : 75700\n",
      "coucou : 75800\n",
      "coucou : 75900\n",
      "coucou : 76000\n",
      "coucou : 76100\n",
      "coucou : 76200\n",
      "coucou : 76300\n",
      "coucou : 76400\n",
      "coucou : 76500\n",
      "coucou : 76600\n",
      "coucou : 76700\n",
      "coucou : 76800\n",
      "coucou : 76900\n",
      "coucou : 77000\n",
      "coucou : 77100\n",
      "coucou : 77200\n",
      "coucou : 77300\n",
      "coucou : 77400\n",
      "coucou : 77500\n",
      "coucou : 77600\n",
      "coucou : 77700\n",
      "coucou : 77800\n",
      "coucou : 77900\n",
      "coucou : 78000\n",
      "coucou : 78100\n",
      "coucou : 78200\n",
      "coucou : 78300\n",
      "coucou : 78400\n",
      "coucou : 78500\n",
      "coucou : 78600\n",
      "coucou : 78700\n",
      "coucou : 78800\n",
      "coucou : 78900\n",
      "coucou : 79000\n",
      "coucou : 79100\n",
      "coucou : 79200\n",
      "coucou : 79300\n",
      "coucou : 79400\n",
      "coucou : 79500\n",
      "coucou : 79600\n",
      "coucou : 79700\n",
      "coucou : 79800\n",
      "coucou : 79900\n",
      "coucou : 80000\n",
      "coucou : 80100\n",
      "coucou : 80200\n",
      "coucou : 80300\n",
      "coucou : 80400\n",
      "coucou : 80500\n",
      "coucou : 80600\n",
      "coucou : 80700\n",
      "coucou : 80800\n",
      "coucou : 80900\n",
      "coucou : 81000\n",
      "coucou : 81100\n",
      "coucou : 81200\n",
      "coucou : 81300\n",
      "coucou : 81400\n",
      "coucou : 81500\n",
      "coucou : 81600\n",
      "coucou : 81700\n",
      "coucou : 81800\n",
      "coucou : 81900\n",
      "coucou : 82000\n",
      "coucou : 82100\n",
      "coucou : 82200\n",
      "coucou : 82300\n",
      "coucou : 82400\n",
      "coucou : 82500\n",
      "coucou : 82600\n",
      "coucou : 82700\n",
      "coucou : 82800\n",
      "coucou : 82900\n",
      "coucou : 83000\n",
      "coucou : 83100\n",
      "coucou : 83200\n",
      "coucou : 83300\n",
      "coucou : 83400\n",
      "coucou : 83500\n",
      "coucou : 83600\n",
      "coucou : 83700\n",
      "coucou : 83800\n",
      "coucou : 83900\n",
      "coucou : 84000\n",
      "coucou : 84100\n",
      "coucou : 84200\n",
      "coucou : 84300\n",
      "coucou : 84400\n",
      "coucou : 84500\n",
      "coucou : 84600\n",
      "coucou : 84700\n",
      "coucou : 84800\n",
      "coucou : 84900\n",
      "coucou : 85000\n",
      "coucou : 85100\n",
      "coucou : 85200\n",
      "coucou : 85300\n",
      "coucou : 85400\n",
      "coucou : 85500\n",
      "coucou : 85600\n",
      "coucou : 85700\n",
      "coucou : 85800\n",
      "coucou : 85900\n",
      "coucou : 86000\n",
      "coucou : 86100\n",
      "coucou : 86200\n",
      "coucou : 86300\n",
      "coucou : 86400\n",
      "coucou : 86500\n",
      "coucou : 86600\n",
      "coucou : 86700\n",
      "coucou : 86800\n",
      "coucou : 86900\n",
      "coucou : 87000\n",
      "coucou : 87100\n",
      "coucou : 87200\n",
      "coucou : 87300\n",
      "coucou : 87400\n",
      "coucou : 87500\n",
      "coucou : 87600\n",
      "coucou : 87700\n",
      "coucou : 87800\n",
      "coucou : 87900\n",
      "coucou : 88000\n",
      "coucou : 88100\n",
      "coucou : 88200\n",
      "coucou : 88300\n",
      "coucou : 88400\n",
      "coucou : 88500\n",
      "coucou : 88600\n",
      "coucou : 88700\n",
      "coucou : 88800\n",
      "coucou : 88900\n",
      "coucou : 89000\n",
      "coucou : 89100\n",
      "coucou : 89200\n",
      "coucou : 89300\n",
      "coucou : 89400\n",
      "coucou : 89500\n",
      "coucou : 89600\n",
      "coucou : 89700\n",
      "coucou : 89800\n",
      "coucou : 89900\n",
      "coucou : 90000\n",
      "coucou : 90100\n",
      "coucou : 90200\n",
      "coucou : 90300\n",
      "coucou : 90400\n",
      "coucou : 90500\n",
      "coucou : 90600\n",
      "coucou : 90700\n",
      "coucou : 90800\n",
      "coucou : 90900\n",
      "coucou : 91000\n",
      "coucou : 91100\n",
      "coucou : 91200\n",
      "coucou : 91300\n",
      "coucou : 91400\n",
      "coucou : 91500\n",
      "coucou : 91600\n",
      "coucou : 91700\n",
      "coucou : 91800\n",
      "coucou : 91900\n",
      "coucou : 92000\n",
      "coucou : 92100\n",
      "coucou : 92200\n",
      "coucou : 92300\n",
      "coucou : 92400\n",
      "coucou : 92500\n",
      "coucou : 92600\n",
      "coucou : 92700\n",
      "coucou : 92800\n",
      "coucou : 92900\n",
      "coucou : 93000\n",
      "coucou : 93100\n",
      "coucou : 93200\n",
      "coucou : 93300\n",
      "coucou : 93400\n",
      "coucou : 93500\n",
      "coucou : 93600\n",
      "coucou : 93700\n",
      "coucou : 93800\n",
      "coucou : 93900\n",
      "coucou : 94000\n",
      "coucou : 94100\n",
      "coucou : 94200\n",
      "coucou : 94300\n",
      "coucou : 94400\n",
      "coucou : 94500\n",
      "coucou : 94600\n",
      "coucou : 94700\n",
      "coucou : 94800\n",
      "coucou : 94900\n",
      "coucou : 95000\n",
      "coucou : 95100\n",
      "coucou : 95200\n",
      "coucou : 95300\n",
      "coucou : 95400\n",
      "coucou : 95500\n",
      "coucou : 95600\n",
      "coucou : 95700\n",
      "coucou : 95800\n",
      "coucou : 95900\n",
      "coucou : 96000\n",
      "coucou : 96100\n",
      "coucou : 96200\n",
      "coucou : 96300\n",
      "coucou : 96400\n",
      "coucou : 96500\n",
      "coucou : 96600\n",
      "coucou : 96700\n",
      "coucou : 96800\n",
      "coucou : 96900\n",
      "coucou : 97000\n",
      "coucou : 97100\n",
      "coucou : 97200\n",
      "coucou : 97300\n",
      "coucou : 97400\n",
      "coucou : 97500\n",
      "coucou : 97600\n",
      "coucou : 97700\n",
      "coucou : 97800\n",
      "coucou : 97900\n",
      "coucou : 98000\n",
      "coucou : 98100\n",
      "coucou : 98200\n",
      "coucou : 98300\n",
      "coucou : 98400\n",
      "coucou : 98500\n",
      "coucou : 98600\n",
      "coucou : 98700\n",
      "coucou : 98800\n",
      "coucou : 98900\n",
      "coucou : 99000\n",
      "coucou : 99100\n",
      "coucou : 99200\n",
      "coucou : 99300\n",
      "coucou : 99400\n",
      "coucou : 99500\n",
      "coucou : 99600\n",
      "coucou : 99700\n",
      "coucou : 99800\n",
      "coucou : 99900\n",
      "coucou : 100000\n"
     ]
    }
   ],
   "source": [
    "i = 0\n",
    "while True :\n",
    "    i += 1\n",
    "    \n",
    "    if (i%100 == 0) :\n",
    "        print(\"coucou :\" , i)\n",
    "        \n",
    "    if i == 100000 :\n",
    "        break;\n"
   ]
  },
  {
   "cell_type": "code",
   "execution_count": null,
   "metadata": {
    "collapsed": true
   },
   "outputs": [],
   "source": []
  }
 ],
 "metadata": {
  "kernelspec": {
   "display_name": "Python 3",
   "language": "python",
   "name": "python3"
  },
  "language_info": {
   "codemirror_mode": {
    "name": "ipython",
    "version": 3
   },
   "file_extension": ".py",
   "mimetype": "text/x-python",
   "name": "python",
   "nbconvert_exporter": "python",
   "pygments_lexer": "ipython3",
   "version": "3.6.2"
  }
 },
 "nbformat": 4,
 "nbformat_minor": 2
}
